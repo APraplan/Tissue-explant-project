{
 "cells": [
  {
   "cell_type": "code",
   "execution_count": 1,
   "metadata": {},
   "outputs": [
    {
     "name": "stdout",
     "output_type": "stream",
     "text": [
      "[1, 2, 3, 4, 5, 6, 7, 8, 9]\n",
      "9\n",
      "[1, 2, 3, 4, 5, 6, 7, 8]\n",
      "8\n"
     ]
    }
   ],
   "source": [
    "import numpy as np\n",
    "\n",
    "test = [1, 2, 3, 4, 5, 6, 7, 8, 9]\n",
    "\n",
    "print(test)\n",
    "print(len(test))\n",
    "\n",
    "test.remove(9)\n",
    "print(test)\n",
    "print(len(test))"
   ]
  },
  {
   "cell_type": "code",
   "execution_count": 6,
   "metadata": {},
   "outputs": [],
   "source": [
    "import tkinter as tk\n",
    "\n",
    "def write_to_entry():\n",
    "    value_to_write = \"Hello, Tkinter!\"\n",
    "    entry_widget.delete(0, tk.END)  # Efface le contenu existant de l'Entry\n",
    "    entry_widget.insert(0, value_to_write)  # Insère la nouvelle valeur\n",
    "\n",
    "# Crée une fenêtre Tkinter\n",
    "root = tk.Tk()\n",
    "root.title(\"Exemple d'Entry\")\n",
    "\n",
    "# Crée un widget Entry\n",
    "entry_widget = tk.Entry(root, width=30)\n",
    "entry_widget.grid(row=0, column=0, padx=10, pady=10)\n",
    "\n",
    "# Crée un bouton pour écrire dans l'Entry\n",
    "button = tk.Button(root, text=\"Écrire dans l'Entry\", command=write_to_entry)\n",
    "button.grid(row=1, column=0, pady=5)\n",
    "\n",
    "# Lance la boucle principale de la fenêtre\n",
    "root.mainloop()\n"
   ]
  },
  {
   "cell_type": "code",
   "execution_count": null,
   "metadata": {},
   "outputs": [],
   "source": []
  }
 ],
 "metadata": {
  "kernelspec": {
   "display_name": "xplant",
   "language": "python",
   "name": "python3"
  },
  "language_info": {
   "codemirror_mode": {
    "name": "ipython",
    "version": 3
   },
   "file_extension": ".py",
   "mimetype": "text/x-python",
   "name": "python",
   "nbconvert_exporter": "python",
   "pygments_lexer": "ipython3",
   "version": "3.11.5"
  }
 },
 "nbformat": 4,
 "nbformat_minor": 2
}

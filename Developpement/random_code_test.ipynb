{
 "cells": [
  {
   "cell_type": "code",
   "execution_count": 1,
   "metadata": {},
   "outputs": [
    {
     "name": "stdout",
     "output_type": "stream",
     "text": [
      "[1, 2, 3, 4, 5, 6, 7, 8, 9]\n",
      "9\n",
      "[1, 2, 3, 4, 5, 6, 7, 8]\n",
      "8\n"
     ]
    }
   ],
   "source": [
    "import numpy as np\n",
    "\n",
    "test = [1, 2, 3, 4, 5, 6, 7, 8, 9]\n",
    "\n",
    "print(test)\n",
    "print(len(test))\n",
    "\n",
    "test.remove(9)\n",
    "print(test)\n",
    "print(len(test))"
   ]
  },
  {
   "cell_type": "code",
   "execution_count": 14,
   "metadata": {},
   "outputs": [],
   "source": [
    "import tkinter as tk\n",
    "from tkinter import ttk\n",
    "from tkinter.messagebox import showinfo\n",
    "\n",
    "# create root window\n",
    "root = tk.Tk()\n",
    "root.title('Treeview Demo - Hierarchical Data')\n",
    "root.geometry('400x200')\n",
    "\n",
    "# configure the grid layout\n",
    "root.rowconfigure(0, weight=1)\n",
    "root.columnconfigure(0, weight=1)\n",
    "\n",
    "\n",
    "# create a treeview\n",
    "tree = ttk.Treeview(root)\n",
    "tree.heading('#0', text='Departments', anchor=tk.W)\n",
    "\n",
    "\n",
    "# adding data\n",
    "tree.insert('', tk.END, text='Administration', iid=0, open=False)\n",
    "tree.insert('', tk.END, text='Logistics', iid=1, open=False)\n",
    "tree.insert('', tk.END, text='Sales', iid=2, open=False)\n",
    "tree.insert('', tk.END, text='Finance', iid=3, open=False)\n",
    "tree.insert('', tk.END, text='IT', iid=4, open=False)\n",
    "\n",
    "# adding children of first node\n",
    "tree.insert('', tk.END, text='John Doe', iid=5, open=False)\n",
    "tree.insert('', tk.END, text='Jane Doe', iid=6, open=False)\n",
    "tree.move(5, 0, 0)\n",
    "tree.move(6, 0, 1)\n",
    "\n",
    "# place the Treeview widget on the root window\n",
    "tree.grid(row=0, column=0, sticky=tk.NSEW)\n",
    "\n",
    "# run the app\n",
    "root.mainloop()\n"
   ]
  },
  {
   "cell_type": "code",
   "execution_count": 42,
   "metadata": {},
   "outputs": [
    {
     "name": "stdout",
     "output_type": "stream",
     "text": [
      "['Tip one', 'Tip two', 'Camera']\n"
     ]
    }
   ],
   "source": [
    "test = {\n",
    "    \"Position\": {\n",
    "        \"Pick height\": 5.599999999999995,\n",
    "        \"Drop height\": 4.800000000000002\n",
    "    },\n",
    "    \"Speed\": {\n",
    "        \"Slow speed\": 3,\n",
    "        \"Medium speed\": 8,\n",
    "        \"Fast speed\": 100\n",
    "    },\n",
    "    \"Tissues\": {\n",
    "        \"Pumping Volume\": 95.0,\n",
    "        \"Pumping speed\": 65,\n",
    "        \"Dropping volume\": 10.0,\n",
    "        \"Dropping speed\": 151\n",
    "    },\n",
    "    \"Solution A\": {\n",
    "        \"Solution A pumping speed\": 60,\n",
    "        \"Solution A dropping speed\": 60,\n",
    "        \"Solution A pumping volume\": 100,\n",
    "        \"Purging speed\": 100,\n",
    "        \"Purging volume\": 600\n",
    "    },\n",
    "    \"Solution B\": {\n",
    "        \"Solution B pumping speed\": 30,\n",
    "        \"Solution B dropping speed\": 35,\n",
    "        \"Solution B pumping volume\": 400\n",
    "    },\n",
    "    \"Gel\": {\n",
    "        \"Tube pumping height\": 3.3,\n",
    "        \"Vial pumping height\": 4.299999999999999,\n",
    "        \"Well plate pumping height\": 5,\n",
    "        \"Number of mix\": 5,\n",
    "        \"Proportion of mixing volume\": 0.7,\n",
    "        \"Number of wash\": 2\n",
    "    },\n",
    "    \"Detection\": {\n",
    "        \"Max attempt\": 2,\n",
    "        \"Max place attempts\": 4,\n",
    "        \"Size min\": 63,\n",
    "        \"Size max\": 70,\n",
    "        \"Circularity min\": 0.0,\n",
    "        \"Convexity min\": 0.8,\n",
    "        \"Inertia min\": 0.3\n",
    "    },\n",
    "    \"Well\": {\n",
    "        \"Well preparation\": True,\n",
    "        \"Type\": \"TPP48\",\n",
    "        \"Number of sample per well\": 4,\n",
    "        \"Number of well\": 0,\n",
    "        \"Culture 1\": \"C1\",\n",
    "        \"Culture 2\": \"D1\",\n",
    "        \"Culture 3\": \"E1\",\n",
    "        \"Culture 4\": \"F1\",\n",
    "        \"Culture 5\": \"E1\",\n",
    "        \"Culture 6\": \"F1\"\n",
    "    },\n",
    "    \"Offset\": {\n",
    "        \"Calibration point\": [\n",
    "            80,\n",
    "            0,\n",
    "            0\n",
    "        ],\n",
    "        \"Tip one\": [\n",
    "            38.00000000000027,\n",
    "            76.09999999999995,\n",
    "            4.100000000000001\n",
    "        ],\n",
    "        \"Tip two\": [\n",
    "            38.400000000000276,\n",
    "            78.39999999999982,\n",
    "            2.8000000000000007\n",
    "        ],\n",
    "        \"Camera\": [\n",
    "            49.30000000000043,\n",
    "            55.300000000000516,\n",
    "            0\n",
    "        ]\n",
    "    }\n",
    "}\n",
    "temp = list(test.get(\"Offset\").keys())[1:]\n",
    "print(temp)"
   ]
  },
  {
   "cell_type": "code",
   "execution_count": 3,
   "metadata": {},
   "outputs": [],
   "source": [
    "import tkinter as tk\n",
    "from tkinter import ttk\n",
    "from tkinter.messagebox import showinfo\n",
    "\n",
    "# create root window\n",
    "root = tk.Tk()\n",
    "root.title('Treeview Demo - Hierarchical Data')\n",
    "root.geometry('400x200')\n",
    "\n",
    "# configure the grid layout\n",
    "root.rowconfigure(0, weight=1)\n",
    "root.columnconfigure(0, weight=1)\n",
    "\n",
    "\n",
    "# create a treeview\n",
    "tree = ttk.Treeview(root)\n",
    "tree.heading('#0', text='Departments', anchor=tk.W)\n",
    "\n",
    "\n",
    "# adding data\n",
    "tree.insert('', tk.END, text='Administration', iid=0, open=False)\n",
    "tree.insert('', tk.END, text='Logistics', iid=1, open=False)\n",
    "tree.insert('', tk.END, text='Sales', iid=2, open=False)\n",
    "tree.insert('', tk.END, text='Finance', iid=3, open=False)\n",
    "tree.insert('', tk.END, text='IT', iid=4, open=False)\n",
    "\n",
    "# adding children of first node\n",
    "tree.insert('', tk.END, text='John Doe', iid=5, open=False)\n",
    "tree.insert('', tk.END, text='Jane Doe', iid=6, open=False)\n",
    "tree.move(5, 0, 0)\n",
    "tree.move(6, 0, 1)\n",
    "\n",
    "# place the Treeview widget on the root window\n",
    "tree.grid(row=0, column=0, sticky=tk.NSEW)\n",
    "\n",
    "# run the app\n",
    "root.mainloop()\n"
   ]
  },
  {
   "cell_type": "code",
   "execution_count": 84,
   "metadata": {},
   "outputs": [
    {
     "name": "stdout",
     "output_type": "stream",
     "text": [
      "{'Position': {'Pick height': 5.599999999999995, 'Drop height': 4.800000000000002}, 'Speed': {'Slow speed': 3, 'Medium speed': 8, 'Fast speed': 100}, 'Tissues': {'Pumping Volume': 95.0, 'Pumping speed': 65, 'Dropping volume': 10.0, 'Dropping speed': 151}, 'Solution A': {'Solution A pumping speed': 60, 'Solution A dropping speed': 60, 'Solution A pumping volume': 100, 'Purging speed': 100, 'Purging volume': 600}, 'Solution B': {'Solution B pumping speed': 30, 'Solution B dropping speed': 35, 'Solution B pumping volume': 400}, 'Gel': {'Tube pumping height': 3.3, 'Vial pumping height': 4.299999999999999, 'Well plate pumping height': 5, 'Number of mix': 5, 'Proportion of mixing volume': 0.7, 'Number of wash': 2}, 'Detection': {'Max attempt': 2, 'Max place attempts': 4, 'Size min': 63, 'Size max': 70, 'Circularity min': 0.0, 'Convexity min': 0.8, 'Inertia min': 0.3}, 'Well': {'Well preparation': True, 'Type': 'NUNC48', 'Number of sample per well': 4, 'Number of well': 1, 'Culture 1': 'C1', 'Culture 2': 'D1', 'Culture 3': 'E1', 'Culture 4': 'F1', 'Culture 5': 'E1', 'Culture 6': 'F1'}, 'Offset': {'None': [0, 0, 0], 'Calibration point': [80.0, 0.0, 0.0], 'Tip one': [38.00000000000027, 76.09999999999995, 4.100000000000001], 'Tip two': [38.400000000000276, 78.39999999999982, 2.8000000000000007], 'Camera': [49.30000000000043, 55.300000000000516, 0]}, 'Positions': {'Solution A': [26, 119, 60], 'Solution B': [66, 119, 60], 'Wash': [46, 119, 60], 'Mixing tubes': [5, 140, 42]}}\n"
     ]
    }
   ],
   "source": [
    "import json\n",
    "with open(\"../settings.json\", \"r\") as f:\n",
    "    settings = json.load(f)\t\n",
    "print(settings)"
   ]
  },
  {
   "cell_type": "code",
   "execution_count": 6,
   "metadata": {},
   "outputs": [
    {
     "data": {
      "text/plain": [
       "{'X': '12.5',\n",
       " 'Y': '140.0',\n",
       " 'Z': '55.0',\n",
       " 'Servo 1': '525',\n",
       " 'Servo 2': '525',\n",
       " 'Servo Speed': '30'}"
      ]
     },
     "execution_count": 6,
     "metadata": {},
     "output_type": "execute_result"
    }
   ],
   "source": [
    "settings[\"Saved Positions\"][\"big_pos_1\"]\n",
    "# type(settings[\"Saved Positions\"][\"big_pos_1\"])"
   ]
  },
  {
   "cell_type": "code",
   "execution_count": 4,
   "metadata": {},
   "outputs": [],
   "source": [
    "import tkinter as tk\n",
    "import cv2\n",
    "from PIL import Image, ImageTk\n",
    "\n",
    "class CameraApp:\n",
    "    def __init__(self, root):\n",
    "        self.root = root\n",
    "        self.root.title(\"Camera App\")\n",
    "        \n",
    "        # Create a button\n",
    "        self.button = tk.Button(self.root, text=\"Capture\", command=self.capture_image)\n",
    "        self.button.pack()\n",
    "        img = cv2.imread(\"captured_image.jpg\")\n",
    "        img_rgb = cv2.cvtColor(img, cv2.COLOR_BGR2RGB)\n",
    "        image = Image.fromarray(img_rgb)\n",
    "        image_tk = ImageTk.PhotoImage(image)\n",
    "        \n",
    "        # Create a label to display the camera feed\n",
    "        self.label = tk.Label(self.root)\n",
    "        self.label.pack()\n",
    "        self.label.configure(image=image_tk)\n",
    "        self.label.image = image_tk\n",
    "        \n",
    "        # Open the camera\n",
    "        self.cap = cv2.VideoCapture(0)\n",
    "        \n",
    "        # Start the camera feed\n",
    "        self.update_camera_feed()\n",
    "        \n",
    "    def update_camera_feed(self):\n",
    "        # Read a frame from the camera\n",
    "        ret, frame = self.cap.read()\n",
    "        \n",
    "        if ret:\n",
    "            # Convert the frame to RGB format\n",
    "            frame_rgb = cv2.cvtColor(frame, cv2.COLOR_BGR2RGB)\n",
    "            \n",
    "            # Resize the frame to fit the label\n",
    "            frame_resized = cv2.resize(frame_rgb, (640, 480))\n",
    "            \n",
    "            # Convert the frame to ImageTk format\n",
    "            image = Image.fromarray(frame_resized)\n",
    "            image_tk = ImageTk.PhotoImage(image)\n",
    "            \n",
    "            # Update the label with the new frame\n",
    "            self.label.configure(image=image_tk)\n",
    "            self.label.image = image_tk\n",
    "        \n",
    "        # Schedule the next update\n",
    "        self.root.after(10, self.update_camera_feed)\n",
    "        \n",
    "    def capture_image(self):\n",
    "        # Read a frame from the camera\n",
    "        ret, frame = self.cap.read()\n",
    "        \n",
    "        if ret:\n",
    "            # Save the frame as an image file\n",
    "            cv2.imwrite(\"captured_image.jpg\", frame)\n",
    "            print(\"Image captured!\")\n",
    "\n",
    "# Create the root window\n",
    "root = tk.Tk()\n",
    "\n",
    "# Create an instance of the CameraApp class\n",
    "app = CameraApp(root)\n",
    "\n",
    "# Start the tkinter event loop\n",
    "root.mainloop()\n"
   ]
  },
  {
   "cell_type": "code",
   "execution_count": 45,
   "metadata": {},
   "outputs": [],
   "source": [
    "import tkinter as tk\n",
    "from tkinter import ttk\n",
    "\n",
    "def populate_tree(tree, parent, dictionary):\n",
    "    for key, value in dictionary.items():\n",
    "        if type(value) == dict:\n",
    "            item = tree.insert(parent, 'end', text=key)\n",
    "            populate_tree(tree, item, value)\n",
    "        else:\n",
    "            item = tree.insert(parent, 'end', text=key, values=[str(value)])\n",
    "            entry = ttk.Entry(tree, width=10)\n",
    "            entry.insert(0, str(value))\n",
    "            tree.set(item, 'Value', entry)\n",
    "\n",
    "def main():\n",
    "    with open(\"../TEST.json\", \"r\") as f:\n",
    "        data = json.load(f)\n",
    "\n",
    "    root = tk.Tk()\n",
    "    root.title(\"Treeview Example\")\n",
    "\n",
    "    tree = ttk.Treeview(root, columns=('Value',))\n",
    "    tree.heading('#0', text='Element')\n",
    "    tree.heading('Value', text='Value')  # Center the value\n",
    "\n",
    "    populate_tree(tree, '', data)\n",
    "\n",
    "    tree.pack(expand=True, fill='both')\n",
    "\n",
    "    root.mainloop()\n",
    "\n",
    "if __name__ == \"__main__\":\n",
    "    main()\n"
   ]
  },
  {
   "cell_type": "code",
   "execution_count": 10,
   "metadata": {},
   "outputs": [],
   "source": [
    "a = [[],[]]"
   ]
  },
  {
   "cell_type": "code",
   "execution_count": 12,
   "metadata": {},
   "outputs": [],
   "source": [
    "import cv2\n",
    "\n",
    "# Load the image\n",
    "image = cv2.imread('captured_image.jpg')\n",
    "\n",
    "# Display the image\n",
    "cv2.imshow('Image', image)\n",
    "cv2.waitKey(0)\n",
    "cv2.destroyAllWindows()\n"
   ]
  },
  {
   "cell_type": "code",
   "execution_count": 12,
   "metadata": {},
   "outputs": [
    {
     "data": {
      "text/plain": [
       "True"
      ]
     },
     "execution_count": 12,
     "metadata": {},
     "output_type": "execute_result"
    }
   ],
   "source": [
    "type(list(settings[\"Offset\"].values())[0]) == list"
   ]
  },
  {
   "cell_type": "code",
   "execution_count": 13,
   "metadata": {},
   "outputs": [
    {
     "data": {
      "text/plain": [
       "7"
      ]
     },
     "execution_count": 13,
     "metadata": {},
     "output_type": "execute_result"
    }
   ],
   "source": [
    "a = [1,4,7]\n",
    "a[-1]"
   ]
  },
  {
   "cell_type": "code",
   "execution_count": 50,
   "metadata": {},
   "outputs": [],
   "source": [
    "import tkinter as tk\n",
    "from tkinter import ttk\n",
    "\n",
    "\n",
    "text_ = \" bla bla bla bla bla \"\n",
    "root = tk.Tk()\n",
    "root.title(\"Treeview Example\")\n",
    "\n",
    "frame = ttk.Frame(root)\n",
    "frame.pack()\n",
    "text = tk.Text(frame, width=40, height=10)\n",
    "text.insert('1.0', text_)\n",
    "text['state'] = 'disabled'\n",
    "text.pack() \n",
    "\n",
    "root.mainloop()"
   ]
  },
  {
   "cell_type": "code",
   "execution_count": 14,
   "metadata": {},
   "outputs": [
    {
     "data": {
      "text/plain": [
       "0"
      ]
     },
     "execution_count": 14,
     "metadata": {},
     "output_type": "execute_result"
    }
   ],
   "source": [
    "tabs_name      = [\"Mode\", \"Cameras\", \"Parameters\", \"Well plate\", \"Motion Control\", \"Documentation\"]\n",
    "tabs_name.index(\"Mode\")"
   ]
  },
  {
   "cell_type": "code",
   "execution_count": 18,
   "metadata": {},
   "outputs": [],
   "source": [
    "a = \"0.1\"\n",
    "if a.isdigit():\n",
    "    print(\"yes\")"
   ]
  },
  {
   "cell_type": "code",
   "execution_count": 13,
   "metadata": {},
   "outputs": [
    {
     "ename": "AttributeError",
     "evalue": "'dict' object has no attribute 'add'",
     "output_type": "error",
     "traceback": [
      "\u001b[1;31m---------------------------------------------------------------------------\u001b[0m",
      "\u001b[1;31mAttributeError\u001b[0m                            Traceback (most recent call last)",
      "\u001b[1;32mc:\\Users\\Neizo\\Documents\\GitHub\\Tissue-explant-project\\Developpement\\random_code_test.ipynb Cell 18\u001b[0m line \u001b[0;36m1\n\u001b[1;32m----> <a href='vscode-notebook-cell:/c%3A/Users/Neizo/Documents/GitHub/Tissue-explant-project/Developpement/random_code_test.ipynb#X23sZmlsZQ%3D%3D?line=0'>1</a>\u001b[0m \u001b[39mlist\u001b[39;49m\u001b[39m.\u001b[39;49madd(\u001b[39m\"\u001b[39m\u001b[39mtest3\u001b[39m\u001b[39m\"\u001b[39m, test1)\n",
      "\u001b[1;31mAttributeError\u001b[0m: 'dict' object has no attribute 'add'"
     ]
    }
   ],
   "source": [
    "list.add(\"test3\", test1)"
   ]
  },
  {
   "cell_type": "code",
   "execution_count": 23,
   "metadata": {},
   "outputs": [],
   "source": [
    "def add_to_buffer(buffer, function, *args):\n",
    "    buffer.append([function, args])"
   ]
  },
  {
   "cell_type": "code",
   "execution_count": 82,
   "metadata": {},
   "outputs": [
    {
     "name": "stdout",
     "output_type": "stream",
     "text": [
      "[]\n",
      "[[<function test1 at 0x0000020DCE5709A0>, ()]]\n",
      "[[<function test1 at 0x0000020DCE5709A0>, ()], [<function test2 at 0x0000020DCE5704A0>, (1,)]]\n",
      "[[<function test1 at 0x0000020DCE5709A0>, ()], [<function test2 at 0x0000020DCE5704A0>, (1,)], [<function test3 at 0x0000020DCE570680>, (1, 2, 3)]]\n",
      "test1\n",
      "test2\n",
      "(1,)\n",
      "test3\n",
      "x = 1, y = 2, z = 3\n"
     ]
    }
   ],
   "source": [
    "def test1():\n",
    "    print(\"test1\")\n",
    "    \n",
    "def test2(idx):\n",
    "    print(\"test2\")\n",
    "    print(idx)\n",
    "    \n",
    "def test3(args):\n",
    "    print(\"test3\")\n",
    "    print(f\"x = {args[0]}, y = {args[1]}, z = {args[2]}\")\n",
    "\n",
    "\n",
    "def add_to_buffer(buffer, function, *args):\n",
    "    buffer.append([function, args])\n",
    "    \n",
    "    \n",
    "list = []\n",
    "print(list)\n",
    "\n",
    "add_to_buffer(list, test1)\n",
    "print(list)\n",
    "\n",
    "add_to_buffer(list, test2, 1)\n",
    "print(list)\n",
    "\n",
    "add_to_buffer(list, test3, 1, 2, 3)\n",
    "print(list)\n",
    "\n",
    "\n",
    "list[0][0]()\n",
    "list[1][0](list[1][1])\n",
    "list[2][0](list[2][1])"
   ]
  },
  {
   "cell_type": "code",
   "execution_count": 65,
   "metadata": {},
   "outputs": [
    {
     "name": "stdout",
     "output_type": "stream",
     "text": [
      "test3\n",
      "(3,)\n"
     ]
    }
   ],
   "source": [
    "\n",
    "list[2][0](list[2][1][0])"
   ]
  },
  {
   "cell_type": "code",
   "execution_count": 66,
   "metadata": {},
   "outputs": [
    {
     "data": {
      "text/plain": [
       "[[<function __main__.test1()>, ()],\n",
       " [<function __main__.test2(idx)>, (1,)],\n",
       " [<function __main__.test3(*args)>, (1, 2, 3)]]"
      ]
     },
     "execution_count": 66,
     "metadata": {},
     "output_type": "execute_result"
    }
   ],
   "source": [
    "\n",
    "list"
   ]
  },
  {
   "cell_type": "code",
   "execution_count": 17,
   "metadata": {},
   "outputs": [
    {
     "name": "stdout",
     "output_type": "stream",
     "text": [
      "no\n"
     ]
    }
   ],
   "source": [
    "a = \"\"\n",
    "try:\n",
    "    float(a)\n",
    "    print(\"yes\")\n",
    "except:\n",
    "    print(\"no\")\n"
   ]
  },
  {
   "cell_type": "code",
   "execution_count": 22,
   "metadata": {},
   "outputs": [
    {
     "name": "stdout",
     "output_type": "stream",
     "text": [
      "yes\n"
     ]
    }
   ],
   "source": [
    "a = 1.0\n",
    "if a == True:\n",
    "    print(\"yes\")\n",
    "else:\n",
    "    print(\"no\")"
   ]
  },
  {
   "cell_type": "code",
   "execution_count": 13,
   "metadata": {},
   "outputs": [],
   "source": [
    "a = [[],[],[]]"
   ]
  },
  {
   "cell_type": "code",
   "execution_count": 14,
   "metadata": {},
   "outputs": [],
   "source": [
    "a[1] = 1"
   ]
  },
  {
   "cell_type": "code",
   "execution_count": 28,
   "metadata": {},
   "outputs": [
    {
     "name": "stdout",
     "output_type": "stream",
     "text": [
      "The key code is:8\n"
     ]
    }
   ],
   "source": [
    "# importing cv2 module \n",
    "import cv2 \n",
    "\n",
    "# read the image \n",
    "img = cv2.imread(\"../Pictures/macro/macro_image_0.png\") \n",
    "\n",
    "# showing the image \n",
    "cv2.imshow('test image', img) \n",
    "\n",
    "while True:\n",
    "    # wait for key \n",
    "    key = cv2.waitKey(1) \n",
    "\n",
    "    # if a key is pressed, quit\n",
    "    if key == 121:\n",
    "        print(\"yes\")\n",
    "        break\n",
    "    elif key == 110:    \n",
    "        print(\"no\")\n",
    "        break\n",
    "    elif key == 27:\n",
    "        print(\"esc\")\n",
    "        break\n",
    "    if key != -1: \n",
    "        break\n",
    "\n",
    "print(\"The key code is:\"+str(key))\n",
    "\n",
    "cv2.destroyAllWindows()\n",
    " \n"
   ]
  },
  {
   "cell_type": "code",
   "execution_count": 13,
   "metadata": {},
   "outputs": [
    {
     "name": "stdout",
     "output_type": "stream",
     "text": [
      " pos is :  2 and command is : 2\n",
      " pos is :  3 and command is : 3\n",
      " pos is :  4 and command is : 4\n",
      " pos is :  3 and command is : 3\n",
      " pos is :  2 and command is : 2\n",
      " pos is :  1 and command is : 1\n",
      " pos is :  0 and command is : 0\n",
      " pos is :  -1 and command is : 0\n",
      " pos is :  -2 and command is : 0\n",
      " pos is :  -3 and command is : 0\n",
      " pos is :  -4 and command is : 0\n",
      " pos is :  -5 and command is : 0\n",
      " pos is :  -4 and command is : 0\n",
      " pos is :  -3 and command is : 0\n",
      " pos is :  -2 and command is : 0\n",
      " pos is :  -1 and command is : 0\n",
      " pos is :  0 and command is : 0\n",
      " pos is :  1 and command is : 1\n",
      " pos is :  2 and command is : 2\n"
     ]
    }
   ],
   "source": [
    "import tkinter as tk\n",
    "from tkinter import ttk\n",
    "X_MIN = -9\n",
    "\n",
    "class Application(tk.Tk):\n",
    "    def __init__(self):\n",
    "        super().__init__()\n",
    "        self.pos = 1\n",
    "        self.command = 1\n",
    "        \n",
    "        button_up = tk.Button(self, text=\"Up\", command=lambda: self.move(1))\n",
    "        button_up.pack()\n",
    "\n",
    "        button_down = tk.Button(self, text=\"Down\", command=lambda: self.move(-1))\n",
    "        button_down.pack()\n",
    "        self.title(\"Treeview Example\")\n",
    "        \n",
    "    def move(self, direction):\n",
    "        self.pos = self.pos + direction\n",
    "        self.command = max(self.pos, 0) # actuellement, c'est ça.\n",
    "        if self.pos < X_MIN:\n",
    "            \n",
    "            self.pos = X_MIN\n",
    "        print(\" pos is : \",self.pos, \"and command is :\", self.command)\n",
    "        \n",
    "\n",
    "root = Application()\n",
    "root.mainloop()"
   ]
  },
  {
   "cell_type": "code",
   "execution_count": 2,
   "metadata": {},
   "outputs": [
    {
     "name": "stdout",
     "output_type": "stream",
     "text": [
      "1.0011215209960938\n"
     ]
    }
   ],
   "source": [
    "import time as time\n",
    "\n",
    "\n",
    "t = time.time()\n",
    "time.sleep(1)\n",
    "t = time.time() - t\n",
    "print(t)"
   ]
  },
  {
   "cell_type": "code",
   "execution_count": 21,
   "metadata": {},
   "outputs": [],
   "source": [
    "import cv2\n",
    "import os\n",
    "# Read the first image in the directory\n",
    "image_path = \"../Pictures/macro/\"\n",
    "image_files = os.listdir(image_path)\n",
    "if len(image_files) > 0:\n",
    "    first_image = cv2.imread(os.path.join(image_path, image_files[0]))\n",
    "\n",
    "    # Display the image\n",
    "    cv2.imshow(\"First Image\", first_image)\n",
    "    cv2.waitKey(0)\n",
    "    cv2.destroyAllWindows()\n",
    "else:\n",
    "    print(\"No images found in the directory.\")\n"
   ]
  },
  {
   "cell_type": "code",
   "execution_count": 6,
   "metadata": {},
   "outputs": [
    {
     "name": "stdout",
     "output_type": "stream",
     "text": [
      "path is  c:\\Users\\Neizo\\Documents\\GitHub\\Tissue-explant-project\\Developpement\\..\\\n",
      "!! Failed to open port for: XL430 test motor\n",
      "Check: \n",
      "1. If correct port name is specified\n",
      "2. If dynamixel wizard isn't connected\n"
     ]
    },
    {
     "ename": "AttributeError",
     "evalue": "'tuple' object has no attribute 'tb_frame'",
     "output_type": "error",
     "traceback": [
      "\u001b[1;31m---------------------------------------------------------------------------\u001b[0m",
      "\u001b[1;31mSerialException\u001b[0m                           Traceback (most recent call last)",
      "File \u001b[1;32mc:\\Users\\Neizo\\Documents\\GitHub\\Tissue-explant-project\\Developpement\\..\\Platform\\Communication\\dynamixel_controller.py:80\u001b[0m, in \u001b[0;36mDynamixel.begin_communication\u001b[1;34m(self, enable_torque)\u001b[0m\n\u001b[0;32m     79\u001b[0m \u001b[38;5;28;01mtry\u001b[39;00m: \n\u001b[1;32m---> 80\u001b[0m     \u001b[38;5;28;43mself\u001b[39;49m\u001b[38;5;241;43m.\u001b[39;49m\u001b[43mport_handler\u001b[49m\u001b[38;5;241;43m.\u001b[39;49m\u001b[43mopenPort\u001b[49m\u001b[43m(\u001b[49m\u001b[43m)\u001b[49m\n\u001b[0;32m     81\u001b[0m     \u001b[38;5;28mprint\u001b[39m(\u001b[38;5;124m\"\u001b[39m\u001b[38;5;124mPort open successfully for:\u001b[39m\u001b[38;5;124m\"\u001b[39m, \u001b[38;5;28mself\u001b[39m\u001b[38;5;241m.\u001b[39mdescriptive_device_name)\n",
      "File \u001b[1;32mc:\\Users\\Neizo\\anaconda3\\envs\\xplant2\\Lib\\site-packages\\dynamixel_sdk\\port_handler.py:44\u001b[0m, in \u001b[0;36mPortHandler.openPort\u001b[1;34m(self)\u001b[0m\n\u001b[0;32m     43\u001b[0m \u001b[38;5;28;01mdef\u001b[39;00m \u001b[38;5;21mopenPort\u001b[39m(\u001b[38;5;28mself\u001b[39m):\n\u001b[1;32m---> 44\u001b[0m     \u001b[38;5;28;01mreturn\u001b[39;00m \u001b[38;5;28;43mself\u001b[39;49m\u001b[38;5;241;43m.\u001b[39;49m\u001b[43msetBaudRate\u001b[49m\u001b[43m(\u001b[49m\u001b[38;5;28;43mself\u001b[39;49m\u001b[38;5;241;43m.\u001b[39;49m\u001b[43mbaudrate\u001b[49m\u001b[43m)\u001b[49m\n",
      "File \u001b[1;32mc:\\Users\\Neizo\\anaconda3\\envs\\xplant2\\Lib\\site-packages\\dynamixel_sdk\\port_handler.py:68\u001b[0m, in \u001b[0;36mPortHandler.setBaudRate\u001b[1;34m(self, baudrate)\u001b[0m\n\u001b[0;32m     67\u001b[0m \u001b[38;5;28mself\u001b[39m\u001b[38;5;241m.\u001b[39mbaudrate \u001b[38;5;241m=\u001b[39m baudrate\n\u001b[1;32m---> 68\u001b[0m \u001b[38;5;28;01mreturn\u001b[39;00m \u001b[38;5;28;43mself\u001b[39;49m\u001b[38;5;241;43m.\u001b[39;49m\u001b[43msetupPort\u001b[49m\u001b[43m(\u001b[49m\u001b[43mbaud\u001b[49m\u001b[43m)\u001b[49m\n",
      "File \u001b[1;32mc:\\Users\\Neizo\\anaconda3\\envs\\xplant2\\Lib\\site-packages\\dynamixel_sdk\\port_handler.py:114\u001b[0m, in \u001b[0;36mPortHandler.setupPort\u001b[1;34m(self, cflag_baud)\u001b[0m\n\u001b[0;32m    112\u001b[0m     \u001b[38;5;28mself\u001b[39m\u001b[38;5;241m.\u001b[39mclosePort()\n\u001b[1;32m--> 114\u001b[0m \u001b[38;5;28mself\u001b[39m\u001b[38;5;241m.\u001b[39mser \u001b[38;5;241m=\u001b[39m \u001b[43mserial\u001b[49m\u001b[38;5;241;43m.\u001b[39;49m\u001b[43mSerial\u001b[49m\u001b[43m(\u001b[49m\n\u001b[0;32m    115\u001b[0m \u001b[43m    \u001b[49m\u001b[43mport\u001b[49m\u001b[38;5;241;43m=\u001b[39;49m\u001b[38;5;28;43mself\u001b[39;49m\u001b[38;5;241;43m.\u001b[39;49m\u001b[43mport_name\u001b[49m\u001b[43m,\u001b[49m\n\u001b[0;32m    116\u001b[0m \u001b[43m    \u001b[49m\u001b[43mbaudrate\u001b[49m\u001b[38;5;241;43m=\u001b[39;49m\u001b[38;5;28;43mself\u001b[39;49m\u001b[38;5;241;43m.\u001b[39;49m\u001b[43mbaudrate\u001b[49m\u001b[43m,\u001b[49m\n\u001b[0;32m    117\u001b[0m \u001b[43m    \u001b[49m\u001b[38;5;66;43;03m# parity = serial.PARITY_ODD,\u001b[39;49;00m\n\u001b[0;32m    118\u001b[0m \u001b[43m    \u001b[49m\u001b[38;5;66;43;03m# stopbits = serial.STOPBITS_TWO,\u001b[39;49;00m\n\u001b[0;32m    119\u001b[0m \u001b[43m    \u001b[49m\u001b[43mbytesize\u001b[49m\u001b[38;5;241;43m=\u001b[39;49m\u001b[43mserial\u001b[49m\u001b[38;5;241;43m.\u001b[39;49m\u001b[43mEIGHTBITS\u001b[49m\u001b[43m,\u001b[49m\n\u001b[0;32m    120\u001b[0m \u001b[43m    \u001b[49m\u001b[43mtimeout\u001b[49m\u001b[38;5;241;43m=\u001b[39;49m\u001b[38;5;241;43m0\u001b[39;49m\n\u001b[0;32m    121\u001b[0m \u001b[43m\u001b[49m\u001b[43m)\u001b[49m\n\u001b[0;32m    123\u001b[0m \u001b[38;5;28mself\u001b[39m\u001b[38;5;241m.\u001b[39mis_open \u001b[38;5;241m=\u001b[39m \u001b[38;5;28;01mTrue\u001b[39;00m\n",
      "File \u001b[1;32mc:\\Users\\Neizo\\anaconda3\\envs\\xplant2\\Lib\\site-packages\\serial\\serialwin32.py:33\u001b[0m, in \u001b[0;36mSerial.__init__\u001b[1;34m(self, *args, **kwargs)\u001b[0m\n\u001b[0;32m     32\u001b[0m \u001b[38;5;28mself\u001b[39m\u001b[38;5;241m.\u001b[39m_overlapped_write \u001b[38;5;241m=\u001b[39m \u001b[38;5;28;01mNone\u001b[39;00m\n\u001b[1;32m---> 33\u001b[0m \u001b[38;5;28;43msuper\u001b[39;49m\u001b[43m(\u001b[49m\u001b[43mSerial\u001b[49m\u001b[43m,\u001b[49m\u001b[43m \u001b[49m\u001b[38;5;28;43mself\u001b[39;49m\u001b[43m)\u001b[49m\u001b[38;5;241;43m.\u001b[39;49m\u001b[38;5;21;43m__init__\u001b[39;49m\u001b[43m(\u001b[49m\u001b[38;5;241;43m*\u001b[39;49m\u001b[43margs\u001b[49m\u001b[43m,\u001b[49m\u001b[43m \u001b[49m\u001b[38;5;241;43m*\u001b[39;49m\u001b[38;5;241;43m*\u001b[39;49m\u001b[43mkwargs\u001b[49m\u001b[43m)\u001b[49m\n",
      "File \u001b[1;32mc:\\Users\\Neizo\\anaconda3\\envs\\xplant2\\Lib\\site-packages\\serial\\serialutil.py:244\u001b[0m, in \u001b[0;36mSerialBase.__init__\u001b[1;34m(self, port, baudrate, bytesize, parity, stopbits, timeout, xonxoff, rtscts, write_timeout, dsrdtr, inter_byte_timeout, exclusive, **kwargs)\u001b[0m\n\u001b[0;32m    243\u001b[0m \u001b[38;5;28;01mif\u001b[39;00m port \u001b[38;5;129;01mis\u001b[39;00m \u001b[38;5;129;01mnot\u001b[39;00m \u001b[38;5;28;01mNone\u001b[39;00m:\n\u001b[1;32m--> 244\u001b[0m     \u001b[38;5;28;43mself\u001b[39;49m\u001b[38;5;241;43m.\u001b[39;49m\u001b[43mopen\u001b[49m\u001b[43m(\u001b[49m\u001b[43m)\u001b[49m\n",
      "File \u001b[1;32mc:\\Users\\Neizo\\anaconda3\\envs\\xplant2\\Lib\\site-packages\\serial\\serialwin32.py:64\u001b[0m, in \u001b[0;36mSerial.open\u001b[1;34m(self)\u001b[0m\n\u001b[0;32m     63\u001b[0m     \u001b[38;5;28mself\u001b[39m\u001b[38;5;241m.\u001b[39m_port_handle \u001b[38;5;241m=\u001b[39m \u001b[38;5;28;01mNone\u001b[39;00m    \u001b[38;5;66;03m# 'cause __del__ is called anyway\u001b[39;00m\n\u001b[1;32m---> 64\u001b[0m     \u001b[38;5;28;01mraise\u001b[39;00m SerialException(\u001b[38;5;124m\"\u001b[39m\u001b[38;5;124mcould not open port \u001b[39m\u001b[38;5;132;01m{!r}\u001b[39;00m\u001b[38;5;124m: \u001b[39m\u001b[38;5;132;01m{!r}\u001b[39;00m\u001b[38;5;124m\"\u001b[39m\u001b[38;5;241m.\u001b[39mformat(\u001b[38;5;28mself\u001b[39m\u001b[38;5;241m.\u001b[39mportstr, ctypes\u001b[38;5;241m.\u001b[39mWinError()))\n\u001b[0;32m     66\u001b[0m \u001b[38;5;28;01mtry\u001b[39;00m:\n",
      "\u001b[1;31mSerialException\u001b[0m: could not open port 'COM7': PermissionError(13, 'Accès refusé.', None, 5)",
      "\nDuring handling of the above exception, another exception occurred:\n",
      "\u001b[1;31mSystemExit\u001b[0m                                Traceback (most recent call last)",
      "    \u001b[1;31m[... skipping hidden 1 frame]\u001b[0m\n",
      "Cell \u001b[1;32mIn[6], line 17\u001b[0m\n\u001b[0;32m     10\u001b[0m Dynamixel \u001b[38;5;241m=\u001b[39m Dynamixel(ID\u001b[38;5;241m=\u001b[39m[\u001b[38;5;241m1\u001b[39m,\u001b[38;5;241m2\u001b[39m,\u001b[38;5;241m3\u001b[39m], \n\u001b[0;32m     11\u001b[0m                             descriptive_device_name\u001b[38;5;241m=\u001b[39m\u001b[38;5;124m\"\u001b[39m\u001b[38;5;124mXL430 test motor\u001b[39m\u001b[38;5;124m\"\u001b[39m, \n\u001b[0;32m     12\u001b[0m                             series_name\u001b[38;5;241m=\u001b[39m[\u001b[38;5;124m\"\u001b[39m\u001b[38;5;124mxl\u001b[39m\u001b[38;5;124m\"\u001b[39m, \u001b[38;5;124m\"\u001b[39m\u001b[38;5;124mxl\u001b[39m\u001b[38;5;124m\"\u001b[39m, \u001b[38;5;124m\"\u001b[39m\u001b[38;5;124mxl\u001b[39m\u001b[38;5;124m\"\u001b[39m], \n\u001b[1;32m   (...)\u001b[0m\n\u001b[0;32m     15\u001b[0m                             pipette_empty\u001b[38;5;241m=\u001b[39m\u001b[38;5;241m670\u001b[39m,    \n\u001b[0;32m     16\u001b[0m                             port_name\u001b[38;5;241m=\u001b[39mget_com_port(\u001b[38;5;124m\"\u001b[39m\u001b[38;5;124m0403\u001b[39m\u001b[38;5;124m\"\u001b[39m, \u001b[38;5;124m\"\u001b[39m\u001b[38;5;124m6014\u001b[39m\u001b[38;5;124m\"\u001b[39m))\n\u001b[1;32m---> 17\u001b[0m \u001b[43mDynamixel\u001b[49m\u001b[38;5;241;43m.\u001b[39;49m\u001b[43mbegin_communication\u001b[49m\u001b[43m(\u001b[49m\u001b[43m)\u001b[49m\n\u001b[0;32m     18\u001b[0m Dynamixel\u001b[38;5;241m.\u001b[39mset_operating_mode(\u001b[38;5;124m\"\u001b[39m\u001b[38;5;124mposition\u001b[39m\u001b[38;5;124m\"\u001b[39m, ID\u001b[38;5;241m=\u001b[39m\u001b[38;5;124m\"\u001b[39m\u001b[38;5;124mall\u001b[39m\u001b[38;5;124m\"\u001b[39m)\n",
      "File \u001b[1;32mc:\\Users\\Neizo\\Documents\\GitHub\\Tissue-explant-project\\Developpement\\..\\Platform\\Communication\\dynamixel_controller.py:85\u001b[0m, in \u001b[0;36mDynamixel.begin_communication\u001b[1;34m(self, enable_torque)\u001b[0m\n\u001b[0;32m     84\u001b[0m     \u001b[38;5;28mprint\u001b[39m(\u001b[38;5;124m\"\u001b[39m\u001b[38;5;124mCheck: \u001b[39m\u001b[38;5;130;01m\\n\u001b[39;00m\u001b[38;5;124m1. If correct port name is specified\u001b[39m\u001b[38;5;130;01m\\n\u001b[39;00m\u001b[38;5;124m2. If dynamixel wizard isn\u001b[39m\u001b[38;5;124m'\u001b[39m\u001b[38;5;124mt connected\u001b[39m\u001b[38;5;124m\"\u001b[39m)\n\u001b[1;32m---> 85\u001b[0m     sys\u001b[38;5;241m.\u001b[39mexit()\n\u001b[0;32m     87\u001b[0m \u001b[38;5;66;03m# Set port baudrate\u001b[39;00m\n",
      "\u001b[1;31mSystemExit\u001b[0m: ",
      "\nDuring handling of the above exception, another exception occurred:\n",
      "\u001b[1;31mAttributeError\u001b[0m                            Traceback (most recent call last)",
      "    \u001b[1;31m[... skipping hidden 1 frame]\u001b[0m\n",
      "File \u001b[1;32mc:\\Users\\Neizo\\anaconda3\\envs\\xplant2\\Lib\\site-packages\\IPython\\core\\interactiveshell.py:2119\u001b[0m, in \u001b[0;36mInteractiveShell.showtraceback\u001b[1;34m(self, exc_tuple, filename, tb_offset, exception_only, running_compiled_code)\u001b[0m\n\u001b[0;32m   2116\u001b[0m \u001b[38;5;28;01mif\u001b[39;00m exception_only:\n\u001b[0;32m   2117\u001b[0m     stb \u001b[38;5;241m=\u001b[39m [\u001b[38;5;124m'\u001b[39m\u001b[38;5;124mAn exception has occurred, use \u001b[39m\u001b[38;5;124m%\u001b[39m\u001b[38;5;124mtb to see \u001b[39m\u001b[38;5;124m'\u001b[39m\n\u001b[0;32m   2118\u001b[0m            \u001b[38;5;124m'\u001b[39m\u001b[38;5;124mthe full traceback.\u001b[39m\u001b[38;5;130;01m\\n\u001b[39;00m\u001b[38;5;124m'\u001b[39m]\n\u001b[1;32m-> 2119\u001b[0m     stb\u001b[38;5;241m.\u001b[39mextend(\u001b[38;5;28;43mself\u001b[39;49m\u001b[38;5;241;43m.\u001b[39;49m\u001b[43mInteractiveTB\u001b[49m\u001b[38;5;241;43m.\u001b[39;49m\u001b[43mget_exception_only\u001b[49m\u001b[43m(\u001b[49m\u001b[43metype\u001b[49m\u001b[43m,\u001b[49m\n\u001b[0;32m   2120\u001b[0m \u001b[43m                                                     \u001b[49m\u001b[43mvalue\u001b[49m\u001b[43m)\u001b[49m)\n\u001b[0;32m   2121\u001b[0m \u001b[38;5;28;01melse\u001b[39;00m:\n\u001b[0;32m   2123\u001b[0m     \u001b[38;5;28;01mdef\u001b[39;00m \u001b[38;5;21mcontains_exceptiongroup\u001b[39m(val):\n",
      "File \u001b[1;32mc:\\Users\\Neizo\\anaconda3\\envs\\xplant2\\Lib\\site-packages\\IPython\\core\\ultratb.py:710\u001b[0m, in \u001b[0;36mListTB.get_exception_only\u001b[1;34m(self, etype, value)\u001b[0m\n\u001b[0;32m    702\u001b[0m \u001b[38;5;28;01mdef\u001b[39;00m \u001b[38;5;21mget_exception_only\u001b[39m(\u001b[38;5;28mself\u001b[39m, etype, value):\n\u001b[0;32m    703\u001b[0m \u001b[38;5;250m    \u001b[39m\u001b[38;5;124;03m\"\"\"Only print the exception type and message, without a traceback.\u001b[39;00m\n\u001b[0;32m    704\u001b[0m \n\u001b[0;32m    705\u001b[0m \u001b[38;5;124;03m    Parameters\u001b[39;00m\n\u001b[1;32m   (...)\u001b[0m\n\u001b[0;32m    708\u001b[0m \u001b[38;5;124;03m    value : exception value\u001b[39;00m\n\u001b[0;32m    709\u001b[0m \u001b[38;5;124;03m    \"\"\"\u001b[39;00m\n\u001b[1;32m--> 710\u001b[0m     \u001b[38;5;28;01mreturn\u001b[39;00m \u001b[43mListTB\u001b[49m\u001b[38;5;241;43m.\u001b[39;49m\u001b[43mstructured_traceback\u001b[49m\u001b[43m(\u001b[49m\u001b[38;5;28;43mself\u001b[39;49m\u001b[43m,\u001b[49m\u001b[43m \u001b[49m\u001b[43metype\u001b[49m\u001b[43m,\u001b[49m\u001b[43m \u001b[49m\u001b[43mvalue\u001b[49m\u001b[43m)\u001b[49m\n",
      "File \u001b[1;32mc:\\Users\\Neizo\\anaconda3\\envs\\xplant2\\Lib\\site-packages\\IPython\\core\\ultratb.py:568\u001b[0m, in \u001b[0;36mListTB.structured_traceback\u001b[1;34m(self, etype, evalue, etb, tb_offset, context)\u001b[0m\n\u001b[0;32m    565\u001b[0m     chained_exc_ids\u001b[38;5;241m.\u001b[39madd(\u001b[38;5;28mid\u001b[39m(exception[\u001b[38;5;241m1\u001b[39m]))\n\u001b[0;32m    566\u001b[0m     chained_exceptions_tb_offset \u001b[38;5;241m=\u001b[39m \u001b[38;5;241m0\u001b[39m\n\u001b[0;32m    567\u001b[0m     out_list \u001b[38;5;241m=\u001b[39m (\n\u001b[1;32m--> 568\u001b[0m         \u001b[38;5;28;43mself\u001b[39;49m\u001b[38;5;241;43m.\u001b[39;49m\u001b[43mstructured_traceback\u001b[49m\u001b[43m(\u001b[49m\n\u001b[0;32m    569\u001b[0m \u001b[43m            \u001b[49m\u001b[43metype\u001b[49m\u001b[43m,\u001b[49m\n\u001b[0;32m    570\u001b[0m \u001b[43m            \u001b[49m\u001b[43mevalue\u001b[49m\u001b[43m,\u001b[49m\n\u001b[0;32m    571\u001b[0m \u001b[43m            \u001b[49m\u001b[43m(\u001b[49m\u001b[43metb\u001b[49m\u001b[43m,\u001b[49m\u001b[43m \u001b[49m\u001b[43mchained_exc_ids\u001b[49m\u001b[43m)\u001b[49m\u001b[43m,\u001b[49m\u001b[43m  \u001b[49m\u001b[38;5;66;43;03m# type: ignore\u001b[39;49;00m\n\u001b[0;32m    572\u001b[0m \u001b[43m            \u001b[49m\u001b[43mchained_exceptions_tb_offset\u001b[49m\u001b[43m,\u001b[49m\n\u001b[0;32m    573\u001b[0m \u001b[43m            \u001b[49m\u001b[43mcontext\u001b[49m\u001b[43m,\u001b[49m\n\u001b[0;32m    574\u001b[0m \u001b[43m        \u001b[49m\u001b[43m)\u001b[49m\n\u001b[0;32m    575\u001b[0m         \u001b[38;5;241m+\u001b[39m chained_exception_message\n\u001b[0;32m    576\u001b[0m         \u001b[38;5;241m+\u001b[39m out_list)\n\u001b[0;32m    578\u001b[0m \u001b[38;5;28;01mreturn\u001b[39;00m out_list\n",
      "File \u001b[1;32mc:\\Users\\Neizo\\anaconda3\\envs\\xplant2\\Lib\\site-packages\\IPython\\core\\ultratb.py:1435\u001b[0m, in \u001b[0;36mAutoFormattedTB.structured_traceback\u001b[1;34m(self, etype, evalue, etb, tb_offset, number_of_lines_of_context)\u001b[0m\n\u001b[0;32m   1433\u001b[0m \u001b[38;5;28;01melse\u001b[39;00m:\n\u001b[0;32m   1434\u001b[0m     \u001b[38;5;28mself\u001b[39m\u001b[38;5;241m.\u001b[39mtb \u001b[38;5;241m=\u001b[39m etb\n\u001b[1;32m-> 1435\u001b[0m \u001b[38;5;28;01mreturn\u001b[39;00m \u001b[43mFormattedTB\u001b[49m\u001b[38;5;241;43m.\u001b[39;49m\u001b[43mstructured_traceback\u001b[49m\u001b[43m(\u001b[49m\n\u001b[0;32m   1436\u001b[0m \u001b[43m    \u001b[49m\u001b[38;5;28;43mself\u001b[39;49m\u001b[43m,\u001b[49m\u001b[43m \u001b[49m\u001b[43metype\u001b[49m\u001b[43m,\u001b[49m\u001b[43m \u001b[49m\u001b[43mevalue\u001b[49m\u001b[43m,\u001b[49m\u001b[43m \u001b[49m\u001b[43metb\u001b[49m\u001b[43m,\u001b[49m\u001b[43m \u001b[49m\u001b[43mtb_offset\u001b[49m\u001b[43m,\u001b[49m\u001b[43m \u001b[49m\u001b[43mnumber_of_lines_of_context\u001b[49m\n\u001b[0;32m   1437\u001b[0m \u001b[43m\u001b[49m\u001b[43m)\u001b[49m\n",
      "File \u001b[1;32mc:\\Users\\Neizo\\anaconda3\\envs\\xplant2\\Lib\\site-packages\\IPython\\core\\ultratb.py:1326\u001b[0m, in \u001b[0;36mFormattedTB.structured_traceback\u001b[1;34m(self, etype, value, tb, tb_offset, number_of_lines_of_context)\u001b[0m\n\u001b[0;32m   1323\u001b[0m mode \u001b[38;5;241m=\u001b[39m \u001b[38;5;28mself\u001b[39m\u001b[38;5;241m.\u001b[39mmode\n\u001b[0;32m   1324\u001b[0m \u001b[38;5;28;01mif\u001b[39;00m mode \u001b[38;5;129;01min\u001b[39;00m \u001b[38;5;28mself\u001b[39m\u001b[38;5;241m.\u001b[39mverbose_modes:\n\u001b[0;32m   1325\u001b[0m     \u001b[38;5;66;03m# Verbose modes need a full traceback\u001b[39;00m\n\u001b[1;32m-> 1326\u001b[0m     \u001b[38;5;28;01mreturn\u001b[39;00m \u001b[43mVerboseTB\u001b[49m\u001b[38;5;241;43m.\u001b[39;49m\u001b[43mstructured_traceback\u001b[49m\u001b[43m(\u001b[49m\n\u001b[0;32m   1327\u001b[0m \u001b[43m        \u001b[49m\u001b[38;5;28;43mself\u001b[39;49m\u001b[43m,\u001b[49m\u001b[43m \u001b[49m\u001b[43metype\u001b[49m\u001b[43m,\u001b[49m\u001b[43m \u001b[49m\u001b[43mvalue\u001b[49m\u001b[43m,\u001b[49m\u001b[43m \u001b[49m\u001b[43mtb\u001b[49m\u001b[43m,\u001b[49m\u001b[43m \u001b[49m\u001b[43mtb_offset\u001b[49m\u001b[43m,\u001b[49m\u001b[43m \u001b[49m\u001b[43mnumber_of_lines_of_context\u001b[49m\n\u001b[0;32m   1328\u001b[0m \u001b[43m    \u001b[49m\u001b[43m)\u001b[49m\n\u001b[0;32m   1329\u001b[0m \u001b[38;5;28;01melif\u001b[39;00m mode \u001b[38;5;241m==\u001b[39m \u001b[38;5;124m'\u001b[39m\u001b[38;5;124mMinimal\u001b[39m\u001b[38;5;124m'\u001b[39m:\n\u001b[0;32m   1330\u001b[0m     \u001b[38;5;28;01mreturn\u001b[39;00m ListTB\u001b[38;5;241m.\u001b[39mget_exception_only(\u001b[38;5;28mself\u001b[39m, etype, value)\n",
      "File \u001b[1;32mc:\\Users\\Neizo\\anaconda3\\envs\\xplant2\\Lib\\site-packages\\IPython\\core\\ultratb.py:1173\u001b[0m, in \u001b[0;36mVerboseTB.structured_traceback\u001b[1;34m(self, etype, evalue, etb, tb_offset, number_of_lines_of_context)\u001b[0m\n\u001b[0;32m   1164\u001b[0m \u001b[38;5;28;01mdef\u001b[39;00m \u001b[38;5;21mstructured_traceback\u001b[39m(\n\u001b[0;32m   1165\u001b[0m     \u001b[38;5;28mself\u001b[39m,\n\u001b[0;32m   1166\u001b[0m     etype: \u001b[38;5;28mtype\u001b[39m,\n\u001b[1;32m   (...)\u001b[0m\n\u001b[0;32m   1170\u001b[0m     number_of_lines_of_context: \u001b[38;5;28mint\u001b[39m \u001b[38;5;241m=\u001b[39m \u001b[38;5;241m5\u001b[39m,\n\u001b[0;32m   1171\u001b[0m ):\n\u001b[0;32m   1172\u001b[0m \u001b[38;5;250m    \u001b[39m\u001b[38;5;124;03m\"\"\"Return a nice text document describing the traceback.\"\"\"\u001b[39;00m\n\u001b[1;32m-> 1173\u001b[0m     formatted_exception \u001b[38;5;241m=\u001b[39m \u001b[38;5;28;43mself\u001b[39;49m\u001b[38;5;241;43m.\u001b[39;49m\u001b[43mformat_exception_as_a_whole\u001b[49m\u001b[43m(\u001b[49m\u001b[43metype\u001b[49m\u001b[43m,\u001b[49m\u001b[43m \u001b[49m\u001b[43mevalue\u001b[49m\u001b[43m,\u001b[49m\u001b[43m \u001b[49m\u001b[43metb\u001b[49m\u001b[43m,\u001b[49m\u001b[43m \u001b[49m\u001b[43mnumber_of_lines_of_context\u001b[49m\u001b[43m,\u001b[49m\n\u001b[0;32m   1174\u001b[0m \u001b[43m                                                           \u001b[49m\u001b[43mtb_offset\u001b[49m\u001b[43m)\u001b[49m\n\u001b[0;32m   1176\u001b[0m     colors \u001b[38;5;241m=\u001b[39m \u001b[38;5;28mself\u001b[39m\u001b[38;5;241m.\u001b[39mColors  \u001b[38;5;66;03m# just a shorthand + quicker name lookup\u001b[39;00m\n\u001b[0;32m   1177\u001b[0m     colorsnormal \u001b[38;5;241m=\u001b[39m colors\u001b[38;5;241m.\u001b[39mNormal  \u001b[38;5;66;03m# used a lot\u001b[39;00m\n",
      "File \u001b[1;32mc:\\Users\\Neizo\\anaconda3\\envs\\xplant2\\Lib\\site-packages\\IPython\\core\\ultratb.py:1063\u001b[0m, in \u001b[0;36mVerboseTB.format_exception_as_a_whole\u001b[1;34m(self, etype, evalue, etb, number_of_lines_of_context, tb_offset)\u001b[0m\n\u001b[0;32m   1060\u001b[0m \u001b[38;5;28;01massert\u001b[39;00m \u001b[38;5;28misinstance\u001b[39m(tb_offset, \u001b[38;5;28mint\u001b[39m)\n\u001b[0;32m   1061\u001b[0m head \u001b[38;5;241m=\u001b[39m \u001b[38;5;28mself\u001b[39m\u001b[38;5;241m.\u001b[39mprepare_header(\u001b[38;5;28mstr\u001b[39m(etype), \u001b[38;5;28mself\u001b[39m\u001b[38;5;241m.\u001b[39mlong_header)\n\u001b[0;32m   1062\u001b[0m records \u001b[38;5;241m=\u001b[39m (\n\u001b[1;32m-> 1063\u001b[0m     \u001b[38;5;28;43mself\u001b[39;49m\u001b[38;5;241;43m.\u001b[39;49m\u001b[43mget_records\u001b[49m\u001b[43m(\u001b[49m\u001b[43metb\u001b[49m\u001b[43m,\u001b[49m\u001b[43m \u001b[49m\u001b[43mnumber_of_lines_of_context\u001b[49m\u001b[43m,\u001b[49m\u001b[43m \u001b[49m\u001b[43mtb_offset\u001b[49m\u001b[43m)\u001b[49m \u001b[38;5;28;01mif\u001b[39;00m etb \u001b[38;5;28;01melse\u001b[39;00m []\n\u001b[0;32m   1064\u001b[0m )\n\u001b[0;32m   1066\u001b[0m frames \u001b[38;5;241m=\u001b[39m []\n\u001b[0;32m   1067\u001b[0m skipped \u001b[38;5;241m=\u001b[39m \u001b[38;5;241m0\u001b[39m\n",
      "File \u001b[1;32mc:\\Users\\Neizo\\anaconda3\\envs\\xplant2\\Lib\\site-packages\\IPython\\core\\ultratb.py:1131\u001b[0m, in \u001b[0;36mVerboseTB.get_records\u001b[1;34m(self, etb, number_of_lines_of_context, tb_offset)\u001b[0m\n\u001b[0;32m   1129\u001b[0m \u001b[38;5;28;01mwhile\u001b[39;00m cf \u001b[38;5;129;01mis\u001b[39;00m \u001b[38;5;129;01mnot\u001b[39;00m \u001b[38;5;28;01mNone\u001b[39;00m:\n\u001b[0;32m   1130\u001b[0m     \u001b[38;5;28;01mtry\u001b[39;00m:\n\u001b[1;32m-> 1131\u001b[0m         mod \u001b[38;5;241m=\u001b[39m inspect\u001b[38;5;241m.\u001b[39mgetmodule(\u001b[43mcf\u001b[49m\u001b[38;5;241;43m.\u001b[39;49m\u001b[43mtb_frame\u001b[49m)\n\u001b[0;32m   1132\u001b[0m         \u001b[38;5;28;01mif\u001b[39;00m mod \u001b[38;5;129;01mis\u001b[39;00m \u001b[38;5;129;01mnot\u001b[39;00m \u001b[38;5;28;01mNone\u001b[39;00m:\n\u001b[0;32m   1133\u001b[0m             mod_name \u001b[38;5;241m=\u001b[39m mod\u001b[38;5;241m.\u001b[39m\u001b[38;5;18m__name__\u001b[39m\n",
      "\u001b[1;31mAttributeError\u001b[0m: 'tuple' object has no attribute 'tb_frame'"
     ]
    }
   ],
   "source": [
    "import sys\n",
    "# sys.path.append(\"Platform\")\n",
    "\n",
    "sys.path.append(sys.path[0] + '\\\\..\\\\')\n",
    "print(\"path is \", sys.path[-1])\n",
    "from Platform.Communication.dynamixel_controller import Dynamixel\n",
    "from Platform.Communication.ports_gestion import *\n",
    "\n",
    "\n",
    "Dynamixel = Dynamixel(ID=[1,2,3], \n",
    "                            descriptive_device_name=\"XL430 test motor\", \n",
    "                            series_name=[\"xl\", \"xl\", \"xl\"], \n",
    "                            baudrate=57600,\n",
    "                            pipette_max_ul = 680,\n",
    "                            pipette_empty=670,    \n",
    "                            port_name=get_com_port(\"0403\", \"6014\"))\n",
    "Dynamixel.begin_communication()\n",
    "Dynamixel.set_operating_mode(\"position\", ID=\"all\")\n",
    "Dynamixel.write_profile_velocity(100, ID=\"all\")\n",
    "Dynamixel.set_position_gains(P_gain = 2700, I_gain = 50, D_gain = 5000, ID=1)\n",
    "Dynamixel.set_position_gains(P_gain = 2700, I_gain = 90, D_gain = 5000, ID=2)\n",
    "Dynamixel.set_position_gains(P_gain = 2500, I_gain = 40, D_gain = 5000, ID=3)\n",
    "        \n",
    "print(Dynamixel.read_tip(1))\n",
    "print(Dynamixel.read_tip(2))"
   ]
  },
  {
   "cell_type": "code",
   "execution_count": 31,
   "metadata": {},
   "outputs": [
    {
     "ename": "ModuleNotFoundError",
     "evalue": "No module named 'Platform'",
     "output_type": "error",
     "traceback": [
      "\u001b[1;31m---------------------------------------------------------------------------\u001b[0m",
      "\u001b[1;31mModuleNotFoundError\u001b[0m                       Traceback (most recent call last)",
      "Cell \u001b[1;32mIn[31], line 4\u001b[0m\n\u001b[0;32m      1\u001b[0m \u001b[38;5;28;01mimport\u001b[39;00m \u001b[38;5;21;01msys\u001b[39;00m\n\u001b[0;32m      3\u001b[0m sys\u001b[38;5;241m.\u001b[39mpath\u001b[38;5;241m.\u001b[39mappend(\u001b[38;5;124m\"\u001b[39m\u001b[38;5;124mPlatform\u001b[39m\u001b[38;5;124m\"\u001b[39m)\n\u001b[1;32m----> 4\u001b[0m \u001b[38;5;28;01mfrom\u001b[39;00m \u001b[38;5;21;01mPlatform\u001b[39;00m\u001b[38;5;21;01m.\u001b[39;00m\u001b[38;5;21;01mCommunication\u001b[39;00m\u001b[38;5;21;01m.\u001b[39;00m\u001b[38;5;21;01mports_gestion\u001b[39;00m \u001b[38;5;28;01mimport\u001b[39;00m \u001b[38;5;241m*\u001b[39m\n",
      "\u001b[1;31mModuleNotFoundError\u001b[0m: No module named 'Platform'"
     ]
    }
   ],
   "source": [
    "import sys\n",
    "\n",
    "sys.path.append(\"Platform\")\n",
    "from Platform.Communication.ports_gestion import *\n"
   ]
  },
  {
   "cell_type": "code",
   "execution_count": 3,
   "metadata": {},
   "outputs": [
    {
     "name": "stdout",
     "output_type": "stream",
     "text": [
      "TPP12\n"
     ]
    }
   ],
   "source": [
    "type = 'TPP12'\n",
    "match type:\n",
    "    case 'TPP6':\n",
    "        print(\"TPP6\")\n",
    "    case 'TPP12':\n",
    "        print(\"TPP12\")\n",
    "    case 'TPP48':\n",
    "        print(\"TPP48\")\n",
    "    case 'TPP96':\n",
    "        print(\"TPP96\")\n",
    "    case _:\n",
    "        print(\"wut\")"
   ]
  },
  {
   "cell_type": "code",
   "execution_count": 85,
   "metadata": {},
   "outputs": [
    {
     "data": {
      "text/plain": [
       "('print_unexpected_arg',\n",
       " [FrameInfo(frame=<frame at 0x000002BA4123ABC0, file 'C:\\\\Users\\\\Neizo\\\\AppData\\\\Local\\\\Temp\\\\ipykernel_28608\\\\1360124768.py', line 9, code print_unexpected_arg>, filename='C:\\\\Users\\\\Neizo\\\\AppData\\\\Local\\\\Temp\\\\ipykernel_28608\\\\1360124768.py', lineno=4, function='print_unexpected_arg', code_context=['    stack = inspect.stack()\\n'], index=0, positions=Positions(lineno=4, end_lineno=4, col_offset=12, end_col_offset=27)),\n",
       "  FrameInfo(frame=<frame at 0x000002BA40CBE400, file 'C:\\\\Users\\\\Neizo\\\\AppData\\\\Local\\\\Temp\\\\ipykernel_28608\\\\1360124768.py', line 24, code my_function>, filename='C:\\\\Users\\\\Neizo\\\\AppData\\\\Local\\\\Temp\\\\ipykernel_28608\\\\1360124768.py', lineno=23, function='my_function', code_context=['            stack = print_unexpected_arg()\\n'], index=0, positions=Positions(lineno=23, end_lineno=23, col_offset=20, end_col_offset=42)),\n",
       "  FrameInfo(frame=<frame at 0x000002BA40BB3D80, file 'C:\\\\Users\\\\Neizo\\\\AppData\\\\Local\\\\Temp\\\\ipykernel_28608\\\\1360124768.py', line 31, code <module>>, filename='C:\\\\Users\\\\Neizo\\\\AppData\\\\Local\\\\Temp\\\\ipykernel_28608\\\\1360124768.py', lineno=31, function='<module>', code_context=['stack = my_function(\"case_3\")\\n'], index=0, positions=Positions(lineno=31, end_lineno=31, col_offset=8, end_col_offset=29)),\n",
       "  FrameInfo(frame=<frame at 0x000002BA40CC3120, file 'c:\\\\Users\\\\Neizo\\\\anaconda3\\\\envs\\\\xplant2\\\\Lib\\\\site-packages\\\\IPython\\\\core\\\\interactiveshell.py', line 3573, code run_code>, filename='c:\\\\Users\\\\Neizo\\\\anaconda3\\\\envs\\\\xplant2\\\\Lib\\\\site-packages\\\\IPython\\\\core\\\\interactiveshell.py', lineno=3548, function='run_code', code_context=['                    exec(code_obj, self.user_global_ns, self.user_ns)\\n'], index=0, positions=Positions(lineno=3548, end_lineno=3548, col_offset=20, end_col_offset=69)),\n",
       "  FrameInfo(frame=<frame at 0x000002BA41278040, file 'c:\\\\Users\\\\Neizo\\\\anaconda3\\\\envs\\\\xplant2\\\\Lib\\\\site-packages\\\\IPython\\\\core\\\\interactiveshell.py', line 3488, code run_ast_nodes>, filename='c:\\\\Users\\\\Neizo\\\\anaconda3\\\\envs\\\\xplant2\\\\Lib\\\\site-packages\\\\IPython\\\\core\\\\interactiveshell.py', lineno=3488, function='run_ast_nodes', code_context=['                if await self.run_code(code, result, async_=asy):\\n'], index=0, positions=Positions(lineno=3488, end_lineno=3488, col_offset=19, end_col_offset=64)),\n",
       "  FrameInfo(frame=<frame at 0x000002BA3F538940, file 'c:\\\\Users\\\\Neizo\\\\anaconda3\\\\envs\\\\xplant2\\\\Lib\\\\site-packages\\\\IPython\\\\core\\\\interactiveshell.py', line 3306, code run_cell_async>, filename='c:\\\\Users\\\\Neizo\\\\anaconda3\\\\envs\\\\xplant2\\\\Lib\\\\site-packages\\\\IPython\\\\core\\\\interactiveshell.py', lineno=3306, function='run_cell_async', code_context=['                has_raised = await self.run_ast_nodes(code_ast.body, cell_name,\\n'], index=0, positions=Positions(lineno=3306, end_lineno=3307, col_offset=29, end_col_offset=85)),\n",
       "  FrameInfo(frame=<frame at 0x000002BA4127C040, file 'c:\\\\Users\\\\Neizo\\\\anaconda3\\\\envs\\\\xplant2\\\\Lib\\\\site-packages\\\\IPython\\\\core\\\\async_helpers.py', line 129, code _pseudo_sync_runner>, filename='c:\\\\Users\\\\Neizo\\\\anaconda3\\\\envs\\\\xplant2\\\\Lib\\\\site-packages\\\\IPython\\\\core\\\\async_helpers.py', lineno=129, function='_pseudo_sync_runner', code_context=['        coro.send(None)\\n'], index=0, positions=Positions(lineno=129, end_lineno=129, col_offset=8, end_col_offset=23)),\n",
       "  FrameInfo(frame=<frame at 0x000002BA411425C0, file 'c:\\\\Users\\\\Neizo\\\\anaconda3\\\\envs\\\\xplant2\\\\Lib\\\\site-packages\\\\IPython\\\\core\\\\interactiveshell.py', line 3101, code _run_cell>, filename='c:\\\\Users\\\\Neizo\\\\anaconda3\\\\envs\\\\xplant2\\\\Lib\\\\site-packages\\\\IPython\\\\core\\\\interactiveshell.py', lineno=3101, function='_run_cell', code_context=['            result = runner(coro)\\n'], index=0, positions=Positions(lineno=3101, end_lineno=3101, col_offset=21, end_col_offset=33)),\n",
       "  FrameInfo(frame=<frame at 0x000002BA4124C740, file 'c:\\\\Users\\\\Neizo\\\\anaconda3\\\\envs\\\\xplant2\\\\Lib\\\\site-packages\\\\IPython\\\\core\\\\interactiveshell.py', line 3046, code run_cell>, filename='c:\\\\Users\\\\Neizo\\\\anaconda3\\\\envs\\\\xplant2\\\\Lib\\\\site-packages\\\\IPython\\\\core\\\\interactiveshell.py', lineno=3046, function='run_cell', code_context=['            result = self._run_cell(\\n'], index=0, positions=Positions(lineno=3046, end_lineno=3048, col_offset=21, end_col_offset=13)),\n",
       "  FrameInfo(frame=<frame at 0x000002BA41274A00, file 'c:\\\\Users\\\\Neizo\\\\anaconda3\\\\envs\\\\xplant2\\\\Lib\\\\site-packages\\\\ipykernel\\\\zmqshell.py', line 549, code run_cell>, filename='c:\\\\Users\\\\Neizo\\\\anaconda3\\\\envs\\\\xplant2\\\\Lib\\\\site-packages\\\\ipykernel\\\\zmqshell.py', lineno=549, function='run_cell', code_context=['        return super().run_cell(*args, **kwargs)\\n'], index=0, positions=Positions(lineno=549, end_lineno=549, col_offset=15, end_col_offset=48)),\n",
       "  FrameInfo(frame=<frame at 0x000002BA412781A0, file 'c:\\\\Users\\\\Neizo\\\\anaconda3\\\\envs\\\\xplant2\\\\Lib\\\\site-packages\\\\ipykernel\\\\ipkernel.py', line 426, code do_execute>, filename='c:\\\\Users\\\\Neizo\\\\anaconda3\\\\envs\\\\xplant2\\\\Lib\\\\site-packages\\\\ipykernel\\\\ipkernel.py', lineno=426, function='do_execute', code_context=['                    res = shell.run_cell(\\n'], index=0, positions=Positions(lineno=426, end_lineno=431, col_offset=26, end_col_offset=21)),\n",
       "  FrameInfo(frame=<frame at 0x000002BA41142700, file 'c:\\\\Users\\\\Neizo\\\\anaconda3\\\\envs\\\\xplant2\\\\Lib\\\\site-packages\\\\ipykernel\\\\kernelbase.py', line 758, code execute_request>, filename='c:\\\\Users\\\\Neizo\\\\anaconda3\\\\envs\\\\xplant2\\\\Lib\\\\site-packages\\\\ipykernel\\\\kernelbase.py', lineno=758, function='execute_request', code_context=['            reply_content = await reply_content\\n'], index=0, positions=Positions(lineno=758, end_lineno=758, col_offset=28, end_col_offset=47)),\n",
       "  FrameInfo(frame=<frame at 0x000002BA4117E4D0, file 'c:\\\\Users\\\\Neizo\\\\anaconda3\\\\envs\\\\xplant2\\\\Lib\\\\site-packages\\\\ipykernel\\\\kernelbase.py', line 418, code dispatch_shell>, filename='c:\\\\Users\\\\Neizo\\\\anaconda3\\\\envs\\\\xplant2\\\\Lib\\\\site-packages\\\\ipykernel\\\\kernelbase.py', lineno=418, function='dispatch_shell', code_context=['                    await result\\n'], index=0, positions=Positions(lineno=418, end_lineno=418, col_offset=20, end_col_offset=32)),\n",
       "  FrameInfo(frame=<frame at 0x000002BA41274930, file 'c:\\\\Users\\\\Neizo\\\\anaconda3\\\\envs\\\\xplant2\\\\Lib\\\\site-packages\\\\ipykernel\\\\kernelbase.py', line 513, code process_one>, filename='c:\\\\Users\\\\Neizo\\\\anaconda3\\\\envs\\\\xplant2\\\\Lib\\\\site-packages\\\\ipykernel\\\\kernelbase.py', lineno=513, function='process_one', code_context=['        await dispatch(*args)\\n'], index=0, positions=Positions(lineno=513, end_lineno=513, col_offset=8, end_col_offset=29)),\n",
       "  FrameInfo(frame=<frame at 0x000002BA40BA7CC0, file 'c:\\\\Users\\\\Neizo\\\\anaconda3\\\\envs\\\\xplant2\\\\Lib\\\\site-packages\\\\ipykernel\\\\kernelbase.py', line 524, code dispatch_queue>, filename='c:\\\\Users\\\\Neizo\\\\anaconda3\\\\envs\\\\xplant2\\\\Lib\\\\site-packages\\\\ipykernel\\\\kernelbase.py', lineno=524, function='dispatch_queue', code_context=['                await self.process_one()\\n'], index=0, positions=Positions(lineno=524, end_lineno=524, col_offset=16, end_col_offset=40)),\n",
       "  FrameInfo(frame=<frame at 0x000002BA41248F20, file 'c:\\\\Users\\\\Neizo\\\\anaconda3\\\\envs\\\\xplant2\\\\Lib\\\\asyncio\\\\events.py', line 80, code _run>, filename='c:\\\\Users\\\\Neizo\\\\anaconda3\\\\envs\\\\xplant2\\\\Lib\\\\asyncio\\\\events.py', lineno=80, function='_run', code_context=['            self._context.run(self._callback, *self._args)\\n'], index=0, positions=Positions(lineno=80, end_lineno=80, col_offset=12, end_col_offset=58)),\n",
       "  FrameInfo(frame=<frame at 0x000002BA4074EB00, file 'c:\\\\Users\\\\Neizo\\\\anaconda3\\\\envs\\\\xplant2\\\\Lib\\\\asyncio\\\\base_events.py', line 1922, code _run_once>, filename='c:\\\\Users\\\\Neizo\\\\anaconda3\\\\envs\\\\xplant2\\\\Lib\\\\asyncio\\\\base_events.py', lineno=1922, function='_run_once', code_context=['                handle._run()\\n'], index=0, positions=Positions(lineno=1922, end_lineno=1922, col_offset=16, end_col_offset=29)),\n",
       "  FrameInfo(frame=<frame at 0x000002BA40B93580, file 'c:\\\\Users\\\\Neizo\\\\anaconda3\\\\envs\\\\xplant2\\\\Lib\\\\asyncio\\\\base_events.py', line 607, code run_forever>, filename='c:\\\\Users\\\\Neizo\\\\anaconda3\\\\envs\\\\xplant2\\\\Lib\\\\asyncio\\\\base_events.py', lineno=607, function='run_forever', code_context=['                self._run_once()\\n'], index=0, positions=Positions(lineno=607, end_lineno=607, col_offset=16, end_col_offset=32)),\n",
       "  FrameInfo(frame=<frame at 0x000002BA40BB0D60, file 'c:\\\\Users\\\\Neizo\\\\anaconda3\\\\envs\\\\xplant2\\\\Lib\\\\site-packages\\\\tornado\\\\platform\\\\asyncio.py', line 195, code start>, filename='c:\\\\Users\\\\Neizo\\\\anaconda3\\\\envs\\\\xplant2\\\\Lib\\\\site-packages\\\\tornado\\\\platform\\\\asyncio.py', lineno=195, function='start', code_context=['        self.asyncio_loop.run_forever()\\n'], index=0, positions=Positions(lineno=195, end_lineno=195, col_offset=8, end_col_offset=39)),\n",
       "  FrameInfo(frame=<frame at 0x000002BA40B93640, file 'c:\\\\Users\\\\Neizo\\\\anaconda3\\\\envs\\\\xplant2\\\\Lib\\\\site-packages\\\\ipykernel\\\\kernelapp.py', line 737, code start>, filename='c:\\\\Users\\\\Neizo\\\\anaconda3\\\\envs\\\\xplant2\\\\Lib\\\\site-packages\\\\ipykernel\\\\kernelapp.py', lineno=737, function='start', code_context=['                self.io_loop.start()\\n'], index=0, positions=Positions(lineno=737, end_lineno=737, col_offset=16, end_col_offset=36)),\n",
       "  FrameInfo(frame=<frame at 0x000002BA40B57440, file 'c:\\\\Users\\\\Neizo\\\\anaconda3\\\\envs\\\\xplant2\\\\Lib\\\\site-packages\\\\traitlets\\\\config\\\\application.py', line 1053, code launch_instance>, filename='c:\\\\Users\\\\Neizo\\\\anaconda3\\\\envs\\\\xplant2\\\\Lib\\\\site-packages\\\\traitlets\\\\config\\\\application.py', lineno=1053, function='launch_instance', code_context=['        app.start()\\n'], index=0, positions=Positions(lineno=1053, end_lineno=1053, col_offset=8, end_col_offset=19)),\n",
       "  FrameInfo(frame=<frame at 0x000002BA40BB1580, file 'c:\\\\Users\\\\Neizo\\\\anaconda3\\\\envs\\\\xplant2\\\\Lib\\\\site-packages\\\\ipykernel_launcher.py', line 17, code <module>>, filename='c:\\\\Users\\\\Neizo\\\\anaconda3\\\\envs\\\\xplant2\\\\Lib\\\\site-packages\\\\ipykernel_launcher.py', lineno=17, function='<module>', code_context=['    app.launch_new_instance()\\n'], index=0, positions=Positions(lineno=17, end_lineno=17, col_offset=4, end_col_offset=29)),\n",
       "  FrameInfo(frame=<frame at 0x000002BA40B48160, file '<frozen runpy>', line 88, code _run_code>, filename='<frozen runpy>', lineno=88, function='_run_code', code_context=None, index=None, positions=Positions(lineno=88, end_lineno=88, col_offset=4, end_col_offset=27)),\n",
       "  FrameInfo(frame=<frame at 0x000002BA405A0740, file '<frozen runpy>', line 198, code _run_module_as_main>, filename='<frozen runpy>', lineno=198, function='_run_module_as_main', code_context=None, index=None, positions=Positions(lineno=198, end_lineno=199, col_offset=11, end_col_offset=42))])"
      ]
     },
     "execution_count": 85,
     "metadata": {},
     "output_type": "execute_result"
    }
   ],
   "source": [
    "import inspect\n",
    "\n",
    "def print_unexpected_arg():\n",
    "    stack = inspect.stack()\n",
    "    \n",
    "    for frame_info in stack:\n",
    "        function_name = frame_info.function\n",
    "        if function_name != \"<module>\":\n",
    "            return function_name, stack\n",
    "    print(f\"Unexpected argument received in function {function_name}\")\n",
    "    return stack\n",
    "\n",
    "def my_function(argument):\n",
    "\n",
    "    match argument:\n",
    "        case \"case_1\":\n",
    "            # Handle case 1\n",
    "            print(\"Case 1\")\n",
    "        case \"case_2\":\n",
    "            # Handle case 2\n",
    "            print(\"Case 2\")\n",
    "        case _:\n",
    "            stack = print_unexpected_arg()\n",
    "            return stack\n",
    "\n",
    "def test(argument):\n",
    "    stack = my_function(argument)\n",
    "    return stack\n",
    "\n",
    "# stack = test(\"case_3\")\n",
    "stack = my_function(\"case_3\")\n",
    "stack\n",
    "    "
   ]
  },
  {
   "cell_type": "code",
   "execution_count": 69,
   "metadata": {},
   "outputs": [
    {
     "name": "stdout",
     "output_type": "stream",
     "text": [
      "print_unexpected_arg\n",
      "my_function\n",
      "test\n",
      "<module>\n",
      "run_code\n",
      "run_ast_nodes\n",
      "run_cell_async\n",
      "_pseudo_sync_runner\n",
      "_run_cell\n",
      "run_cell\n",
      "run_cell\n",
      "do_execute\n",
      "execute_request\n",
      "dispatch_shell\n",
      "process_one\n",
      "dispatch_queue\n",
      "_run\n",
      "_run_once\n",
      "run_forever\n",
      "start\n",
      "start\n",
      "launch_instance\n",
      "<module>\n",
      "_run_code\n",
      "_run_module_as_main\n"
     ]
    }
   ],
   "source": [
    "for frame_info in stack[1]:\n",
    "    print(frame_info.function)"
   ]
  },
  {
   "cell_type": "code",
   "execution_count": 84,
   "metadata": {},
   "outputs": [
    {
     "name": "stdout",
     "output_type": "stream",
     "text": [
      "Unexpected argument received in function get_calling_function_name\n"
     ]
    },
    {
     "data": {
      "text/plain": [
       "[FrameInfo(frame=<frame at 0x000002BA4123B700, file 'C:\\\\Users\\\\Neizo\\\\AppData\\\\Local\\\\Temp\\\\ipykernel_28608\\\\1103065201.py', line 12, code get_calling_function_name>, filename='C:\\\\Users\\\\Neizo\\\\AppData\\\\Local\\\\Temp\\\\ipykernel_28608\\\\1103065201.py', lineno=8, function='get_calling_function_name', code_context=['        stack = inspect.stack()\\n'], index=0, positions=Positions(lineno=8, end_lineno=8, col_offset=16, end_col_offset=31)),\n",
       " FrameInfo(frame=<frame at 0x000002BA4123B640, file 'C:\\\\Users\\\\Neizo\\\\AppData\\\\Local\\\\Temp\\\\ipykernel_28608\\\\1103065201.py', line 24, code my_function>, filename='C:\\\\Users\\\\Neizo\\\\AppData\\\\Local\\\\Temp\\\\ipykernel_28608\\\\1103065201.py', lineno=22, function='my_function', code_context=['            calling_function_name, stack = get_calling_function_name()\\n'], index=0, positions=Positions(lineno=22, end_lineno=22, col_offset=43, end_col_offset=70)),\n",
       " FrameInfo(frame=<frame at 0x000002BA41210B80, file 'C:\\\\Users\\\\Neizo\\\\AppData\\\\Local\\\\Temp\\\\ipykernel_28608\\\\1103065201.py', line 27, code <module>>, filename='C:\\\\Users\\\\Neizo\\\\AppData\\\\Local\\\\Temp\\\\ipykernel_28608\\\\1103065201.py', lineno=27, function='<module>', code_context=['stack = my_function(\"case_3\")\\n'], index=0, positions=Positions(lineno=27, end_lineno=27, col_offset=8, end_col_offset=29)),\n",
       " FrameInfo(frame=<frame at 0x000002BA40CC2F00, file 'c:\\\\Users\\\\Neizo\\\\anaconda3\\\\envs\\\\xplant2\\\\Lib\\\\site-packages\\\\IPython\\\\core\\\\interactiveshell.py', line 3573, code run_code>, filename='c:\\\\Users\\\\Neizo\\\\anaconda3\\\\envs\\\\xplant2\\\\Lib\\\\site-packages\\\\IPython\\\\core\\\\interactiveshell.py', lineno=3548, function='run_code', code_context=['                    exec(code_obj, self.user_global_ns, self.user_ns)\\n'], index=0, positions=Positions(lineno=3548, end_lineno=3548, col_offset=20, end_col_offset=69)),\n",
       " FrameInfo(frame=<frame at 0x000002BA3F577B60, file 'c:\\\\Users\\\\Neizo\\\\anaconda3\\\\envs\\\\xplant2\\\\Lib\\\\site-packages\\\\IPython\\\\core\\\\interactiveshell.py', line 3488, code run_ast_nodes>, filename='c:\\\\Users\\\\Neizo\\\\anaconda3\\\\envs\\\\xplant2\\\\Lib\\\\site-packages\\\\IPython\\\\core\\\\interactiveshell.py', lineno=3488, function='run_ast_nodes', code_context=['                if await self.run_code(code, result, async_=asy):\\n'], index=0, positions=Positions(lineno=3488, end_lineno=3488, col_offset=19, end_col_offset=64)),\n",
       " FrameInfo(frame=<frame at 0x000002BA3F5387C0, file 'c:\\\\Users\\\\Neizo\\\\anaconda3\\\\envs\\\\xplant2\\\\Lib\\\\site-packages\\\\IPython\\\\core\\\\interactiveshell.py', line 3306, code run_cell_async>, filename='c:\\\\Users\\\\Neizo\\\\anaconda3\\\\envs\\\\xplant2\\\\Lib\\\\site-packages\\\\IPython\\\\core\\\\interactiveshell.py', lineno=3306, function='run_cell_async', code_context=['                has_raised = await self.run_ast_nodes(code_ast.body, cell_name,\\n'], index=0, positions=Positions(lineno=3306, end_lineno=3307, col_offset=29, end_col_offset=85)),\n",
       " FrameInfo(frame=<frame at 0x000002BA4123B7C0, file 'c:\\\\Users\\\\Neizo\\\\anaconda3\\\\envs\\\\xplant2\\\\Lib\\\\site-packages\\\\IPython\\\\core\\\\async_helpers.py', line 129, code _pseudo_sync_runner>, filename='c:\\\\Users\\\\Neizo\\\\anaconda3\\\\envs\\\\xplant2\\\\Lib\\\\site-packages\\\\IPython\\\\core\\\\async_helpers.py', lineno=129, function='_pseudo_sync_runner', code_context=['        coro.send(None)\\n'], index=0, positions=Positions(lineno=129, end_lineno=129, col_offset=8, end_col_offset=23)),\n",
       " FrameInfo(frame=<frame at 0x000002BA411420C0, file 'c:\\\\Users\\\\Neizo\\\\anaconda3\\\\envs\\\\xplant2\\\\Lib\\\\site-packages\\\\IPython\\\\core\\\\interactiveshell.py', line 3101, code _run_cell>, filename='c:\\\\Users\\\\Neizo\\\\anaconda3\\\\envs\\\\xplant2\\\\Lib\\\\site-packages\\\\IPython\\\\core\\\\interactiveshell.py', lineno=3101, function='_run_cell', code_context=['            result = runner(coro)\\n'], index=0, positions=Positions(lineno=3101, end_lineno=3101, col_offset=21, end_col_offset=33)),\n",
       " FrameInfo(frame=<frame at 0x000002BA4124C840, file 'c:\\\\Users\\\\Neizo\\\\anaconda3\\\\envs\\\\xplant2\\\\Lib\\\\site-packages\\\\IPython\\\\core\\\\interactiveshell.py', line 3046, code run_cell>, filename='c:\\\\Users\\\\Neizo\\\\anaconda3\\\\envs\\\\xplant2\\\\Lib\\\\site-packages\\\\IPython\\\\core\\\\interactiveshell.py', lineno=3046, function='run_cell', code_context=['            result = self._run_cell(\\n'], index=0, positions=Positions(lineno=3046, end_lineno=3048, col_offset=21, end_col_offset=13)),\n",
       " FrameInfo(frame=<frame at 0x000002BA4126CEE0, file 'c:\\\\Users\\\\Neizo\\\\anaconda3\\\\envs\\\\xplant2\\\\Lib\\\\site-packages\\\\ipykernel\\\\zmqshell.py', line 549, code run_cell>, filename='c:\\\\Users\\\\Neizo\\\\anaconda3\\\\envs\\\\xplant2\\\\Lib\\\\site-packages\\\\ipykernel\\\\zmqshell.py', lineno=549, function='run_cell', code_context=['        return super().run_cell(*args, **kwargs)\\n'], index=0, positions=Positions(lineno=549, end_lineno=549, col_offset=15, end_col_offset=48)),\n",
       " FrameInfo(frame=<frame at 0x000002BA3F577CC0, file 'c:\\\\Users\\\\Neizo\\\\anaconda3\\\\envs\\\\xplant2\\\\Lib\\\\site-packages\\\\ipykernel\\\\ipkernel.py', line 426, code do_execute>, filename='c:\\\\Users\\\\Neizo\\\\anaconda3\\\\envs\\\\xplant2\\\\Lib\\\\site-packages\\\\ipykernel\\\\ipkernel.py', lineno=426, function='do_execute', code_context=['                    res = shell.run_cell(\\n'], index=0, positions=Positions(lineno=426, end_lineno=431, col_offset=26, end_col_offset=21)),\n",
       " FrameInfo(frame=<frame at 0x000002BA41142200, file 'c:\\\\Users\\\\Neizo\\\\anaconda3\\\\envs\\\\xplant2\\\\Lib\\\\site-packages\\\\ipykernel\\\\kernelbase.py', line 758, code execute_request>, filename='c:\\\\Users\\\\Neizo\\\\anaconda3\\\\envs\\\\xplant2\\\\Lib\\\\site-packages\\\\ipykernel\\\\kernelbase.py', lineno=758, function='execute_request', code_context=['            reply_content = await reply_content\\n'], index=0, positions=Positions(lineno=758, end_lineno=758, col_offset=28, end_col_offset=47)),\n",
       " FrameInfo(frame=<frame at 0x000002BA4117DD50, file 'c:\\\\Users\\\\Neizo\\\\anaconda3\\\\envs\\\\xplant2\\\\Lib\\\\site-packages\\\\ipykernel\\\\kernelbase.py', line 418, code dispatch_shell>, filename='c:\\\\Users\\\\Neizo\\\\anaconda3\\\\envs\\\\xplant2\\\\Lib\\\\site-packages\\\\ipykernel\\\\kernelbase.py', lineno=418, function='dispatch_shell', code_context=['                    await result\\n'], index=0, positions=Positions(lineno=418, end_lineno=418, col_offset=20, end_col_offset=32)),\n",
       " FrameInfo(frame=<frame at 0x000002BA4126CD40, file 'c:\\\\Users\\\\Neizo\\\\anaconda3\\\\envs\\\\xplant2\\\\Lib\\\\site-packages\\\\ipykernel\\\\kernelbase.py', line 513, code process_one>, filename='c:\\\\Users\\\\Neizo\\\\anaconda3\\\\envs\\\\xplant2\\\\Lib\\\\site-packages\\\\ipykernel\\\\kernelbase.py', lineno=513, function='process_one', code_context=['        await dispatch(*args)\\n'], index=0, positions=Positions(lineno=513, end_lineno=513, col_offset=8, end_col_offset=29)),\n",
       " FrameInfo(frame=<frame at 0x000002BA40BA7CC0, file 'c:\\\\Users\\\\Neizo\\\\anaconda3\\\\envs\\\\xplant2\\\\Lib\\\\site-packages\\\\ipykernel\\\\kernelbase.py', line 524, code dispatch_queue>, filename='c:\\\\Users\\\\Neizo\\\\anaconda3\\\\envs\\\\xplant2\\\\Lib\\\\site-packages\\\\ipykernel\\\\kernelbase.py', lineno=524, function='dispatch_queue', code_context=['                await self.process_one()\\n'], index=0, positions=Positions(lineno=524, end_lineno=524, col_offset=16, end_col_offset=40)),\n",
       " FrameInfo(frame=<frame at 0x000002BA41248BA0, file 'c:\\\\Users\\\\Neizo\\\\anaconda3\\\\envs\\\\xplant2\\\\Lib\\\\asyncio\\\\events.py', line 80, code _run>, filename='c:\\\\Users\\\\Neizo\\\\anaconda3\\\\envs\\\\xplant2\\\\Lib\\\\asyncio\\\\events.py', lineno=80, function='_run', code_context=['            self._context.run(self._callback, *self._args)\\n'], index=0, positions=Positions(lineno=80, end_lineno=80, col_offset=12, end_col_offset=58)),\n",
       " FrameInfo(frame=<frame at 0x000002BA4074ED60, file 'c:\\\\Users\\\\Neizo\\\\anaconda3\\\\envs\\\\xplant2\\\\Lib\\\\asyncio\\\\base_events.py', line 1922, code _run_once>, filename='c:\\\\Users\\\\Neizo\\\\anaconda3\\\\envs\\\\xplant2\\\\Lib\\\\asyncio\\\\base_events.py', lineno=1922, function='_run_once', code_context=['                handle._run()\\n'], index=0, positions=Positions(lineno=1922, end_lineno=1922, col_offset=16, end_col_offset=29)),\n",
       " FrameInfo(frame=<frame at 0x000002BA40B93580, file 'c:\\\\Users\\\\Neizo\\\\anaconda3\\\\envs\\\\xplant2\\\\Lib\\\\asyncio\\\\base_events.py', line 607, code run_forever>, filename='c:\\\\Users\\\\Neizo\\\\anaconda3\\\\envs\\\\xplant2\\\\Lib\\\\asyncio\\\\base_events.py', lineno=607, function='run_forever', code_context=['                self._run_once()\\n'], index=0, positions=Positions(lineno=607, end_lineno=607, col_offset=16, end_col_offset=32)),\n",
       " FrameInfo(frame=<frame at 0x000002BA40BB0D60, file 'c:\\\\Users\\\\Neizo\\\\anaconda3\\\\envs\\\\xplant2\\\\Lib\\\\site-packages\\\\tornado\\\\platform\\\\asyncio.py', line 195, code start>, filename='c:\\\\Users\\\\Neizo\\\\anaconda3\\\\envs\\\\xplant2\\\\Lib\\\\site-packages\\\\tornado\\\\platform\\\\asyncio.py', lineno=195, function='start', code_context=['        self.asyncio_loop.run_forever()\\n'], index=0, positions=Positions(lineno=195, end_lineno=195, col_offset=8, end_col_offset=39)),\n",
       " FrameInfo(frame=<frame at 0x000002BA40B93640, file 'c:\\\\Users\\\\Neizo\\\\anaconda3\\\\envs\\\\xplant2\\\\Lib\\\\site-packages\\\\ipykernel\\\\kernelapp.py', line 737, code start>, filename='c:\\\\Users\\\\Neizo\\\\anaconda3\\\\envs\\\\xplant2\\\\Lib\\\\site-packages\\\\ipykernel\\\\kernelapp.py', lineno=737, function='start', code_context=['                self.io_loop.start()\\n'], index=0, positions=Positions(lineno=737, end_lineno=737, col_offset=16, end_col_offset=36)),\n",
       " FrameInfo(frame=<frame at 0x000002BA40B57440, file 'c:\\\\Users\\\\Neizo\\\\anaconda3\\\\envs\\\\xplant2\\\\Lib\\\\site-packages\\\\traitlets\\\\config\\\\application.py', line 1053, code launch_instance>, filename='c:\\\\Users\\\\Neizo\\\\anaconda3\\\\envs\\\\xplant2\\\\Lib\\\\site-packages\\\\traitlets\\\\config\\\\application.py', lineno=1053, function='launch_instance', code_context=['        app.start()\\n'], index=0, positions=Positions(lineno=1053, end_lineno=1053, col_offset=8, end_col_offset=19)),\n",
       " FrameInfo(frame=<frame at 0x000002BA40BB1580, file 'c:\\\\Users\\\\Neizo\\\\anaconda3\\\\envs\\\\xplant2\\\\Lib\\\\site-packages\\\\ipykernel_launcher.py', line 17, code <module>>, filename='c:\\\\Users\\\\Neizo\\\\anaconda3\\\\envs\\\\xplant2\\\\Lib\\\\site-packages\\\\ipykernel_launcher.py', lineno=17, function='<module>', code_context=['    app.launch_new_instance()\\n'], index=0, positions=Positions(lineno=17, end_lineno=17, col_offset=4, end_col_offset=29)),\n",
       " FrameInfo(frame=<frame at 0x000002BA40B48160, file '<frozen runpy>', line 88, code _run_code>, filename='<frozen runpy>', lineno=88, function='_run_code', code_context=None, index=None, positions=Positions(lineno=88, end_lineno=88, col_offset=4, end_col_offset=27)),\n",
       " FrameInfo(frame=<frame at 0x000002BA405A0740, file '<frozen runpy>', line 198, code _run_module_as_main>, filename='<frozen runpy>', lineno=198, function='_run_module_as_main', code_context=None, index=None, positions=Positions(lineno=198, end_lineno=199, col_offset=11, end_col_offset=42))]"
      ]
     },
     "execution_count": 84,
     "metadata": {},
     "output_type": "execute_result"
    }
   ],
   "source": [
    "import inspect\n",
    "\n",
    "def print_unexpected_arg(function_name):\n",
    "    print(f\"Unexpected argument received in function {function_name}\")\n",
    "\n",
    "def my_function(argument):\n",
    "    def get_calling_function_name():\n",
    "        stack = inspect.stack()\n",
    "        for frame_info in stack:\n",
    "            function_name = frame_info.function\n",
    "            if function_name != \"<module>\":\n",
    "                return function_name, stack\n",
    "\n",
    "    match argument:\n",
    "        case \"case_1\":\n",
    "            # Handle case 1\n",
    "            print(\"Case 1\")\n",
    "        case \"case_2\":\n",
    "            # Handle case 2\n",
    "            print(\"Case 2\")\n",
    "        case _:\n",
    "            calling_function_name, stack = get_calling_function_name()\n",
    "            print_unexpected_arg(calling_function_name)\n",
    "            return stack\n",
    "\n",
    "# Example usage\n",
    "stack = my_function(\"case_3\")\n",
    "stack"
   ]
  },
  {
   "cell_type": "code",
   "execution_count": 66,
   "metadata": {},
   "outputs": [
    {
     "name": "stdout",
     "output_type": "stream",
     "text": [
      "get_calling_function_name\n",
      "my_function\n",
      "<module>\n",
      "run_code\n",
      "run_ast_nodes\n",
      "run_cell_async\n",
      "_pseudo_sync_runner\n",
      "_run_cell\n",
      "run_cell\n",
      "run_cell\n",
      "do_execute\n",
      "execute_request\n",
      "dispatch_shell\n",
      "process_one\n",
      "dispatch_queue\n",
      "_run\n",
      "_run_once\n",
      "run_forever\n",
      "start\n",
      "start\n",
      "launch_instance\n",
      "<module>\n",
      "_run_code\n",
      "_run_module_as_main\n"
     ]
    }
   ],
   "source": [
    "for frame_info in stack:\n",
    "    print(frame_info.function)"
   ]
  },
  {
   "cell_type": "code",
   "execution_count": 58,
   "metadata": {},
   "outputs": [
    {
     "data": {
      "text/plain": [
       "'my_function'"
      ]
     },
     "execution_count": 58,
     "metadata": {},
     "output_type": "execute_result"
    }
   ],
   "source": [
    "stack[1][1].function"
   ]
  },
  {
   "cell_type": "code",
   "execution_count": 33,
   "metadata": {},
   "outputs": [
    {
     "data": {
      "text/plain": [
       "<function __main__.test()>"
      ]
     },
     "execution_count": 33,
     "metadata": {},
     "output_type": "execute_result"
    }
   ],
   "source": [
    "def test():\n",
    "    t = inspect.Traceback.function()\n",
    "    print(t)\n",
    "test"
   ]
  },
  {
   "cell_type": "code",
   "execution_count": 34,
   "metadata": {},
   "outputs": [
    {
     "data": {
      "text/plain": [
       "<function __main__.test2()>"
      ]
     },
     "execution_count": 34,
     "metadata": {},
     "output_type": "execute_result"
    }
   ],
   "source": [
    "def test2():\n",
    "    test\n",
    "test2"
   ]
  },
  {
   "cell_type": "code",
   "execution_count": null,
   "metadata": {},
   "outputs": [],
   "source": []
  }
 ],
 "metadata": {
  "kernelspec": {
   "display_name": "xplant",
   "language": "python",
   "name": "python3"
  },
  "language_info": {
   "codemirror_mode": {
    "name": "ipython",
    "version": 3
   },
   "file_extension": ".py",
   "mimetype": "text/x-python",
   "name": "python",
   "nbconvert_exporter": "python",
   "pygments_lexer": "ipython3",
   "version": "3.11.5"
  }
 },
 "nbformat": 4,
 "nbformat_minor": 2
}

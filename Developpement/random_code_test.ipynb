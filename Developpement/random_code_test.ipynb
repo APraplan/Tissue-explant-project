{
 "cells": [
  {
   "cell_type": "code",
   "execution_count": 1,
   "metadata": {},
   "outputs": [
    {
     "name": "stdout",
     "output_type": "stream",
     "text": [
      "[1, 2, 3, 4, 5, 6, 7, 8, 9]\n",
      "9\n",
      "[1, 2, 3, 4, 5, 6, 7, 8]\n",
      "8\n"
     ]
    }
   ],
   "source": [
    "import numpy as np\n",
    "\n",
    "test = [1, 2, 3, 4, 5, 6, 7, 8, 9]\n",
    "\n",
    "print(test)\n",
    "print(len(test))\n",
    "\n",
    "test.remove(9)\n",
    "print(test)\n",
    "print(len(test))"
   ]
  },
  {
   "cell_type": "code",
   "execution_count": 14,
   "metadata": {},
   "outputs": [],
   "source": [
    "import tkinter as tk\n",
    "from tkinter import ttk\n",
    "from tkinter.messagebox import showinfo\n",
    "\n",
    "# create root window\n",
    "root = tk.Tk()\n",
    "root.title('Treeview Demo - Hierarchical Data')\n",
    "root.geometry('400x200')\n",
    "\n",
    "# configure the grid layout\n",
    "root.rowconfigure(0, weight=1)\n",
    "root.columnconfigure(0, weight=1)\n",
    "\n",
    "\n",
    "# create a treeview\n",
    "tree = ttk.Treeview(root)\n",
    "tree.heading('#0', text='Departments', anchor=tk.W)\n",
    "\n",
    "\n",
    "# adding data\n",
    "tree.insert('', tk.END, text='Administration', iid=0, open=False)\n",
    "tree.insert('', tk.END, text='Logistics', iid=1, open=False)\n",
    "tree.insert('', tk.END, text='Sales', iid=2, open=False)\n",
    "tree.insert('', tk.END, text='Finance', iid=3, open=False)\n",
    "tree.insert('', tk.END, text='IT', iid=4, open=False)\n",
    "\n",
    "# adding children of first node\n",
    "tree.insert('', tk.END, text='John Doe', iid=5, open=False)\n",
    "tree.insert('', tk.END, text='Jane Doe', iid=6, open=False)\n",
    "tree.move(5, 0, 0)\n",
    "tree.move(6, 0, 1)\n",
    "\n",
    "# place the Treeview widget on the root window\n",
    "tree.grid(row=0, column=0, sticky=tk.NSEW)\n",
    "\n",
    "# run the app\n",
    "root.mainloop()\n"
   ]
  },
  {
   "cell_type": "code",
   "execution_count": 42,
   "metadata": {},
   "outputs": [
    {
     "name": "stdout",
     "output_type": "stream",
     "text": [
      "['Tip one', 'Tip two', 'Camera']\n"
     ]
    }
   ],
   "source": [
    "test = {\n",
    "    \"Position\": {\n",
    "        \"Pick height\": 5.599999999999995,\n",
    "        \"Drop height\": 4.800000000000002\n",
    "    },\n",
    "    \"Speed\": {\n",
    "        \"Slow speed\": 3,\n",
    "        \"Medium speed\": 8,\n",
    "        \"Fast speed\": 100\n",
    "    },\n",
    "    \"Tissues\": {\n",
    "        \"Pumping Volume\": 95.0,\n",
    "        \"Pumping speed\": 65,\n",
    "        \"Dropping volume\": 10.0,\n",
    "        \"Dropping speed\": 151\n",
    "    },\n",
    "    \"Solution A\": {\n",
    "        \"Solution A pumping speed\": 60,\n",
    "        \"Solution A dropping speed\": 60,\n",
    "        \"Solution A pumping volume\": 100,\n",
    "        \"Purging speed\": 100,\n",
    "        \"Purging volume\": 600\n",
    "    },\n",
    "    \"Solution B\": {\n",
    "        \"Solution B pumping speed\": 30,\n",
    "        \"Solution B dropping speed\": 35,\n",
    "        \"Solution B pumping volume\": 400\n",
    "    },\n",
    "    \"Gel\": {\n",
    "        \"Tube pumping height\": 3.3,\n",
    "        \"Vial pumping height\": 4.299999999999999,\n",
    "        \"Well plate pumping height\": 5,\n",
    "        \"Number of mix\": 5,\n",
    "        \"Proportion of mixing volume\": 0.7,\n",
    "        \"Number of wash\": 2\n",
    "    },\n",
    "    \"Detection\": {\n",
    "        \"Max attempt\": 2,\n",
    "        \"Max place attempts\": 4,\n",
    "        \"Size min\": 63,\n",
    "        \"Size max\": 70,\n",
    "        \"Circularity min\": 0.0,\n",
    "        \"Convexity min\": 0.8,\n",
    "        \"Inertia min\": 0.3\n",
    "    },\n",
    "    \"Well\": {\n",
    "        \"Well preparation\": True,\n",
    "        \"Type\": \"TPP48\",\n",
    "        \"Number of sample per well\": 4,\n",
    "        \"Number of well\": 0,\n",
    "        \"Culture 1\": \"C1\",\n",
    "        \"Culture 2\": \"D1\",\n",
    "        \"Culture 3\": \"E1\",\n",
    "        \"Culture 4\": \"F1\",\n",
    "        \"Culture 5\": \"E1\",\n",
    "        \"Culture 6\": \"F1\"\n",
    "    },\n",
    "    \"Offset\": {\n",
    "        \"Calibration point\": [\n",
    "            80,\n",
    "            0,\n",
    "            0\n",
    "        ],\n",
    "        \"Tip one\": [\n",
    "            38.00000000000027,\n",
    "            76.09999999999995,\n",
    "            4.100000000000001\n",
    "        ],\n",
    "        \"Tip two\": [\n",
    "            38.400000000000276,\n",
    "            78.39999999999982,\n",
    "            2.8000000000000007\n",
    "        ],\n",
    "        \"Camera\": [\n",
    "            49.30000000000043,\n",
    "            55.300000000000516,\n",
    "            0\n",
    "        ]\n",
    "    }\n",
    "}\n",
    "temp = list(test.get(\"Offset\").keys())[1:]\n",
    "print(temp)"
   ]
  },
  {
   "cell_type": "code",
   "execution_count": 3,
   "metadata": {},
   "outputs": [],
   "source": [
    "import tkinter as tk\n",
    "from tkinter import ttk\n",
    "from tkinter.messagebox import showinfo\n",
    "\n",
    "# create root window\n",
    "root = tk.Tk()\n",
    "root.title('Treeview Demo - Hierarchical Data')\n",
    "root.geometry('400x200')\n",
    "\n",
    "# configure the grid layout\n",
    "root.rowconfigure(0, weight=1)\n",
    "root.columnconfigure(0, weight=1)\n",
    "\n",
    "\n",
    "# create a treeview\n",
    "tree = ttk.Treeview(root)\n",
    "tree.heading('#0', text='Departments', anchor=tk.W)\n",
    "\n",
    "\n",
    "# adding data\n",
    "tree.insert('', tk.END, text='Administration', iid=0, open=False)\n",
    "tree.insert('', tk.END, text='Logistics', iid=1, open=False)\n",
    "tree.insert('', tk.END, text='Sales', iid=2, open=False)\n",
    "tree.insert('', tk.END, text='Finance', iid=3, open=False)\n",
    "tree.insert('', tk.END, text='IT', iid=4, open=False)\n",
    "\n",
    "# adding children of first node\n",
    "tree.insert('', tk.END, text='John Doe', iid=5, open=False)\n",
    "tree.insert('', tk.END, text='Jane Doe', iid=6, open=False)\n",
    "tree.move(5, 0, 0)\n",
    "tree.move(6, 0, 1)\n",
    "\n",
    "# place the Treeview widget on the root window\n",
    "tree.grid(row=0, column=0, sticky=tk.NSEW)\n",
    "\n",
    "# run the app\n",
    "root.mainloop()\n"
   ]
  },
  {
   "cell_type": "code",
   "execution_count": 1,
   "metadata": {},
   "outputs": [
    {
     "name": "stdout",
     "output_type": "stream",
     "text": [
      "{'Position': {'Pick height': 54.0, 'Drop height': '4.8'}, 'Speed': {'Slow speed': '', 'Medium speed': 8, 'Fast speed': 100}, 'Tissues': {'Pumping Volume': '95.01', 'Pumping speed': 65, 'Dropping volume': 10.0, 'Dropping speed': 151}, 'Solution A': {'Solution A pumping speed': 60, 'Solution A dropping speed': 60, 'Solution A pumping volume': 100, 'Purging speed': 100, 'Purging volume': 600}, 'Solution B': {'Solution B pumping speed': 30, 'Solution B dropping speed': 35, 'Solution B pumping volume': 400}, 'Gel': {'Tube pumping height': 3.3, 'Vial pumping height': 4.299999999999999, 'Well plate pumping height': 5, 'Number of mix': 5, 'Proportion of mixing volume': 0.7, 'Number of wash': 2}, 'Detection': {'Max attempt': 2, 'Max place attempts': 4, 'Size min': 63, 'Size max': 70, 'Circularity min': 0.0, 'Convexity min': 0.8, 'Inertia min': 0.3}, 'Well': {'Well preparation': True, 'Type': 'TPP48', 'Number of sample per well': 4, 'Number of well': 0, 'Culture 1': 'C1', 'Culture 2': 'D1', 'Culture 3': 'E1', 'Culture 4': 'F1', 'Culture 5': 'E1', 'Culture 6': 'F1'}, 'Offset': {'Calibration point': [80.0, 0.0, 0.0], 'Tip one': [38.00000000000027, 76.09999999999995, 4.100000000000001], 'Tip two': [38.400000000000276, 78.39999999999982, 2.8000000000000007], 'Camera': [49.30000000000043, 55.300000000000516, 0]}, 'Saved Positions': {'big_pos_1': {'X': '12.5', 'Y': '140.0', 'Z': '55.0', 'Servo 1': '525', 'Servo 2': '525', 'Servo Speed': '30'}, 'big_pos_2': {'X': '39.5', 'Y': '140.0', 'Z': '55.0', 'Servo 1': '525', 'Servo 2': '525', 'Servo Speed': '30'}, 'big_pos_3': {'X': '66.5', 'Y': '140.0', 'Z': '55.0', 'Servo 1': '525', 'Servo 2': '525', 'Servo Speed': '30'}, 'test': {'X': '', 'Y': '', 'Z': '', 'Servo 1': 525, 'Servo 2': 523, 'Servo Speed': 30}}}\n"
     ]
    }
   ],
   "source": [
    "import json\n",
    "with open(\"../TEST.json\", \"r\") as f:\n",
    "    settings = json.load(f)\t\n",
    "print(settings)"
   ]
  },
  {
   "cell_type": "code",
   "execution_count": 6,
   "metadata": {},
   "outputs": [
    {
     "data": {
      "text/plain": [
       "{'X': '12.5',\n",
       " 'Y': '140.0',\n",
       " 'Z': '55.0',\n",
       " 'Servo 1': '525',\n",
       " 'Servo 2': '525',\n",
       " 'Servo Speed': '30'}"
      ]
     },
     "execution_count": 6,
     "metadata": {},
     "output_type": "execute_result"
    }
   ],
   "source": [
    "settings[\"Saved Positions\"][\"big_pos_1\"]\n",
    "# type(settings[\"Saved Positions\"][\"big_pos_1\"])"
   ]
  },
  {
   "cell_type": "code",
   "execution_count": 4,
   "metadata": {},
   "outputs": [],
   "source": [
    "import tkinter as tk\n",
    "import cv2\n",
    "from PIL import Image, ImageTk\n",
    "\n",
    "class CameraApp:\n",
    "    def __init__(self, root):\n",
    "        self.root = root\n",
    "        self.root.title(\"Camera App\")\n",
    "        \n",
    "        # Create a button\n",
    "        self.button = tk.Button(self.root, text=\"Capture\", command=self.capture_image)\n",
    "        self.button.pack()\n",
    "        img = cv2.imread(\"captured_image.jpg\")\n",
    "        img_rgb = cv2.cvtColor(img, cv2.COLOR_BGR2RGB)\n",
    "        image = Image.fromarray(img_rgb)\n",
    "        image_tk = ImageTk.PhotoImage(image)\n",
    "        \n",
    "        # Create a label to display the camera feed\n",
    "        self.label = tk.Label(self.root)\n",
    "        self.label.pack()\n",
    "        self.label.configure(image=image_tk)\n",
    "        self.label.image = image_tk\n",
    "        \n",
    "        # Open the camera\n",
    "        self.cap = cv2.VideoCapture(0)\n",
    "        \n",
    "        # Start the camera feed\n",
    "        self.update_camera_feed()\n",
    "        \n",
    "    def update_camera_feed(self):\n",
    "        # Read a frame from the camera\n",
    "        ret, frame = self.cap.read()\n",
    "        \n",
    "        if ret:\n",
    "            # Convert the frame to RGB format\n",
    "            frame_rgb = cv2.cvtColor(frame, cv2.COLOR_BGR2RGB)\n",
    "            \n",
    "            # Resize the frame to fit the label\n",
    "            frame_resized = cv2.resize(frame_rgb, (640, 480))\n",
    "            \n",
    "            # Convert the frame to ImageTk format\n",
    "            image = Image.fromarray(frame_resized)\n",
    "            image_tk = ImageTk.PhotoImage(image)\n",
    "            \n",
    "            # Update the label with the new frame\n",
    "            self.label.configure(image=image_tk)\n",
    "            self.label.image = image_tk\n",
    "        \n",
    "        # Schedule the next update\n",
    "        self.root.after(10, self.update_camera_feed)\n",
    "        \n",
    "    def capture_image(self):\n",
    "        # Read a frame from the camera\n",
    "        ret, frame = self.cap.read()\n",
    "        \n",
    "        if ret:\n",
    "            # Save the frame as an image file\n",
    "            cv2.imwrite(\"captured_image.jpg\", frame)\n",
    "            print(\"Image captured!\")\n",
    "\n",
    "# Create the root window\n",
    "root = tk.Tk()\n",
    "\n",
    "# Create an instance of the CameraApp class\n",
    "app = CameraApp(root)\n",
    "\n",
    "# Start the tkinter event loop\n",
    "root.mainloop()\n"
   ]
  },
  {
   "cell_type": "code",
   "execution_count": 45,
   "metadata": {},
   "outputs": [],
   "source": [
    "import tkinter as tk\n",
    "from tkinter import ttk\n",
    "\n",
    "def populate_tree(tree, parent, dictionary):\n",
    "    for key, value in dictionary.items():\n",
    "        if type(value) == dict:\n",
    "            item = tree.insert(parent, 'end', text=key)\n",
    "            populate_tree(tree, item, value)\n",
    "        else:\n",
    "            item = tree.insert(parent, 'end', text=key, values=[str(value)])\n",
    "            entry = ttk.Entry(tree, width=10)\n",
    "            entry.insert(0, str(value))\n",
    "            tree.set(item, 'Value', entry)\n",
    "\n",
    "def main():\n",
    "    with open(\"../TEST.json\", \"r\") as f:\n",
    "        data = json.load(f)\n",
    "\n",
    "    root = tk.Tk()\n",
    "    root.title(\"Treeview Example\")\n",
    "\n",
    "    tree = ttk.Treeview(root, columns=('Value',))\n",
    "    tree.heading('#0', text='Element')\n",
    "    tree.heading('Value', text='Value')  # Center the value\n",
    "\n",
    "    populate_tree(tree, '', data)\n",
    "\n",
    "    tree.pack(expand=True, fill='both')\n",
    "\n",
    "    root.mainloop()\n",
    "\n",
    "if __name__ == \"__main__\":\n",
    "    main()\n"
   ]
  },
  {
   "cell_type": "code",
   "execution_count": 10,
   "metadata": {},
   "outputs": [],
   "source": [
    "a = [[],[]]"
   ]
  },
  {
   "cell_type": "code",
   "execution_count": 12,
   "metadata": {},
   "outputs": [],
   "source": [
    "import cv2\n",
    "\n",
    "# Load the image\n",
    "image = cv2.imread('captured_image.jpg')\n",
    "\n",
    "# Display the image\n",
    "cv2.imshow('Image', image)\n",
    "cv2.waitKey(0)\n",
    "cv2.destroyAllWindows()\n"
   ]
  },
  {
   "cell_type": "code",
   "execution_count": 12,
   "metadata": {},
   "outputs": [
    {
     "data": {
      "text/plain": [
       "True"
      ]
     },
     "execution_count": 12,
     "metadata": {},
     "output_type": "execute_result"
    }
   ],
   "source": [
    "type(list(settings[\"Offset\"].values())[0]) == list"
   ]
  },
  {
   "cell_type": "code",
   "execution_count": 13,
   "metadata": {},
   "outputs": [
    {
     "data": {
      "text/plain": [
       "7"
      ]
     },
     "execution_count": 13,
     "metadata": {},
     "output_type": "execute_result"
    }
   ],
   "source": [
    "a = [1,4,7]\n",
    "a[-1]"
   ]
  },
  {
   "cell_type": "code",
   "execution_count": 50,
   "metadata": {},
   "outputs": [],
   "source": [
    "import tkinter as tk\n",
    "from tkinter import ttk\n",
    "\n",
    "\n",
    "text_ = \" bla bla bla bla bla \"\n",
    "root = tk.Tk()\n",
    "root.title(\"Treeview Example\")\n",
    "\n",
    "frame = ttk.Frame(root)\n",
    "frame.pack()\n",
    "text = tk.Text(frame, width=40, height=10)\n",
    "text.insert('1.0', text_)\n",
    "text['state'] = 'disabled'\n",
    "text.pack() \n",
    "\n",
    "root.mainloop()"
   ]
  },
  {
   "cell_type": "code",
   "execution_count": 14,
   "metadata": {},
   "outputs": [
    {
     "data": {
      "text/plain": [
       "0"
      ]
     },
     "execution_count": 14,
     "metadata": {},
     "output_type": "execute_result"
    }
   ],
   "source": [
    "tabs_name      = [\"Mode\", \"Cameras\", \"Parameters\", \"Well plate\", \"Motion Control\", \"Documentation\"]\n",
    "tabs_name.index(\"Mode\")"
   ]
  },
  {
   "cell_type": "code",
   "execution_count": 18,
   "metadata": {},
   "outputs": [],
   "source": [
    "a = \"0.1\"\n",
    "if a.isdigit():\n",
    "    print(\"yes\")"
   ]
  },
  {
   "cell_type": "code",
   "execution_count": null,
   "metadata": {},
   "outputs": [],
   "source": []
  }
 ],
 "metadata": {
  "kernelspec": {
   "display_name": "xplant",
   "language": "python",
   "name": "python3"
  },
  "language_info": {
   "codemirror_mode": {
    "name": "ipython",
    "version": 3
   },
   "file_extension": ".py",
   "mimetype": "text/x-python",
   "name": "python",
   "nbconvert_exporter": "python",
   "pygments_lexer": "ipython3",
   "version": "3.11.5"
  }
 },
 "nbformat": 4,
 "nbformat_minor": 2
}
